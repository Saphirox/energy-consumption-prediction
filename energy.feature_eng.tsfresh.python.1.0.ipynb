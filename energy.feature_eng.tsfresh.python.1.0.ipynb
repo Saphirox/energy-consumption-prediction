{
 "cells": [
  {
   "cell_type": "markdown",
   "metadata": {},
   "source": [
    "# <center> Feature engineering "
   ]
  },
  {
   "cell_type": "code",
   "execution_count": 1,
   "metadata": {},
   "outputs": [],
   "source": [
    "%store -r __ipy\n",
    "%store -r __da"
   ]
  },
  {
   "cell_type": "code",
   "execution_count": 2,
   "metadata": {},
   "outputs": [
    {
     "name": "stdout",
     "output_type": "stream",
     "text": [
      "Helper ipython script loaded\n"
     ]
    },
    {
     "data": {
      "text/html": [
       "\n",
       "<style>\n",
       "    body {\n",
       "          font-family: Helvetica, Times New Roman, sans-serif;\n",
       "    }\n",
       "    \n",
       "    h1,h2, h3,h4,h5,h6 {\n",
       "        font-family: Rockwell, Times New Roman, sans-serif;\n",
       "    }\n",
       "</style>\n"
      ],
      "text/plain": [
       "<IPython.core.display.HTML object>"
      ]
     },
     "metadata": {},
     "output_type": "display_data"
    }
   ],
   "source": [
    "__ipy"
   ]
  },
  {
   "cell_type": "code",
   "execution_count": 3,
   "metadata": {},
   "outputs": [
    {
     "data": {
      "text/html": [
       "        <script type=\"text/javascript\">\n",
       "        window.PlotlyConfig = {MathJaxConfig: 'local'};\n",
       "        if (window.MathJax) {MathJax.Hub.Config({SVG: {font: \"STIX-Web\"}});}\n",
       "        if (typeof require !== 'undefined') {\n",
       "        require.undef(\"plotly\");\n",
       "        requirejs.config({\n",
       "            paths: {\n",
       "                'plotly': ['https://cdn.plot.ly/plotly-latest.min']\n",
       "            }\n",
       "        });\n",
       "        require(['plotly'], function(Plotly) {\n",
       "            window._Plotly = Plotly;\n",
       "        });\n",
       "        }\n",
       "        </script>\n",
       "        "
      ]
     },
     "metadata": {},
     "output_type": "display_data"
    },
    {
     "name": "stdout",
     "output_type": "stream",
     "text": [
      "Basic Data Analysis tools was loaded\n"
     ]
    }
   ],
   "source": [
    "__da"
   ]
  },
  {
   "cell_type": "code",
   "execution_count": null,
   "metadata": {},
   "outputs": [],
   "source": [
    "class TSFreshTransformer(BaseEstimator, TransformerMixin):\n",
    "\n",
    "    def __init__(self, column_id, column_sort, column_value, extraction_settings):\n",
    "        self.column_id = column_id\n",
    "        self.column_sort = column_sort\n",
    "        self.column_value = column_value\n",
    "        self.extraction_settings = extraction_settings\n",
    "\n",
    "    def fit(self, train_x, train_y=None, **fit_params):\n",
    "        return self\n",
    "\n",
    "    def transform(self, X_train, y_train=None, **fit_params):\n",
    "        X_features = extract_features(\n",
    "            X_train,\n",
    "            column_id=self.column_id,\n",
    "            column_sort=self.column_sort,\n",
    "            column_value=self.column_value,\n",
    "            default_fc_parameters=self.extraction_settings,\n",
    "            disable_progressbar=True)\n",
    "\n",
    "        impute(X_features)\n",
    "        return X_features\n",
    "\n",
    "    def get_params(self, **kwargs):\n",
    "        return {'column_id': self.column_id,\n",
    "                'column_sort': self.column_sort,\n",
    "                'column_value': self.column_value,\n",
    "                'extraction_settings': self.extraction_settings}\n",
    "\n",
    "    def set_params(self, **parameters):\n",
    "        for parameter, value in parameters.items():\n",
    "            setattr(self, parameter, value)\n",
    "        return self\n",
    "\n",
    "    def fit_transform(self, X, y=None, **fit_params):\n",
    "        return self.fit(X).transform(X)"
   ]
  },
  {
   "cell_type": "code",
   "execution_count": null,
   "metadata": {},
   "outputs": [],
   "source": [
    "def generate_ts_features(df, X_train, X_test, it, month_threshold):\n",
    "    def merge(df, features, it):\n",
    "        return df.merge(features, how='left', left_on='key', right_on='id', right_index=False, suffixes=('', f'_{str(it)}'))\n",
    "    \n",
    "    print(\"item_cnt_day\")\n",
    "    features = TSFreshTransformer('key', 'date_block_num', 'item_cnt_day', EfficientFCParameters())\\\n",
    "        .fit_transform(df, axis=0)\n",
    "\n",
    "    X_train = merge(X_train, features, it)\n",
    "    X_test = merge(X_test, features, it)\n",
    "    \n",
    "    return X_train, X_test    "
   ]
  },
  {
   "cell_type": "code",
   "execution_count": null,
   "metadata": {},
   "outputs": [],
   "source": [
    "def generate_ts(X_train_val, y_train_val, X_test):\n",
    "    \n",
    "    assert X_train_val.shape[0] > X_test.shape[0]\n",
    "    assert X_train_val.shape[0] == y_train_val.shape[0]\n",
    "    \n",
    "    X_train_val_func = X_train_val.copy()\n",
    "    X_test_func = X_test.copy()\n",
    "\n",
    "    X = pd.concat([X_train_val.reset_index(), y_train_val.reset_index()], axis=1)\n",
    "\n",
    "    for i, month in tqdm(enumerate([12, 24])):\n",
    "        X_train_val_func, X_test_func = generate_ts_features(X, X_train_val_func, X_test_func, month, month)\n",
    "        \n",
    "    X_train_val_func = X_train_val_func.fillna(0)\n",
    "    X_test_func = X_test_func.fillna(0)\n",
    "  \n",
    "    return X_train_val_func, X_test_func"
   ]
  },
  {
   "cell_type": "code",
   "execution_count": null,
   "metadata": {},
   "outputs": [],
   "source": []
  },
  {
   "cell_type": "code",
   "execution_count": null,
   "metadata": {},
   "outputs": [],
   "source": []
  }
 ],
 "metadata": {
  "kernelspec": {
   "display_name": "Python 3",
   "language": "python",
   "name": "python3"
  },
  "language_info": {
   "codemirror_mode": {
    "name": "ipython",
    "version": 3
   },
   "file_extension": ".py",
   "mimetype": "text/x-python",
   "name": "python",
   "nbconvert_exporter": "python",
   "pygments_lexer": "ipython3",
   "version": "3.7.3"
  }
 },
 "nbformat": 4,
 "nbformat_minor": 2
}

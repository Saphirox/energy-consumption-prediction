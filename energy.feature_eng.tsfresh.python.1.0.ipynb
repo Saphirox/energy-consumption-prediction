{
 "cells": [
  {
   "cell_type": "markdown",
   "metadata": {},
   "source": [
    "# <center> Feature engineering: TSFresh performance"
   ]
  },
  {
   "cell_type": "code",
   "execution_count": 5,
   "metadata": {},
   "outputs": [],
   "source": [
    "%store -r __ipy\n",
    "%store -r __da"
   ]
  },
  {
   "cell_type": "code",
   "execution_count": 6,
   "metadata": {},
   "outputs": [
    {
     "name": "stdout",
     "output_type": "stream",
     "text": [
      "Helper ipython script loaded\n"
     ]
    },
    {
     "data": {
      "text/html": [
       "\n",
       "<style>\n",
       "    body {\n",
       "          font-family: Helvetica, Times New Roman, sans-serif;\n",
       "    }\n",
       "    \n",
       "    h1,h2, h3,h4,h5,h6 {\n",
       "        font-family: Rockwell, Times New Roman, sans-serif;\n",
       "    }\n",
       "</style>\n"
      ],
      "text/plain": [
       "<IPython.core.display.HTML object>"
      ]
     },
     "metadata": {},
     "output_type": "display_data"
    }
   ],
   "source": [
    "__ipy"
   ]
  },
  {
   "cell_type": "code",
   "execution_count": 7,
   "metadata": {},
   "outputs": [
    {
     "data": {
      "text/html": [
       "        <script type=\"text/javascript\">\n",
       "        window.PlotlyConfig = {MathJaxConfig: 'local'};\n",
       "        if (window.MathJax) {MathJax.Hub.Config({SVG: {font: \"STIX-Web\"}});}\n",
       "        if (typeof require !== 'undefined') {\n",
       "        require.undef(\"plotly\");\n",
       "        requirejs.config({\n",
       "            paths: {\n",
       "                'plotly': ['https://cdn.plot.ly/plotly-latest.min']\n",
       "            }\n",
       "        });\n",
       "        require(['plotly'], function(Plotly) {\n",
       "            window._Plotly = Plotly;\n",
       "        });\n",
       "        }\n",
       "        </script>\n",
       "        "
      ]
     },
     "metadata": {},
     "output_type": "display_data"
    },
    {
     "name": "stdout",
     "output_type": "stream",
     "text": [
      "Basic Data Analysis tools was loaded\n"
     ]
    }
   ],
   "source": [
    "__da"
   ]
  },
  {
   "cell_type": "code",
   "execution_count": 8,
   "metadata": {},
   "outputs": [],
   "source": [
    "from tsfresh import extract_features, extract_relevant_features, select_features\n",
    "from tsfresh.utilities.dataframe_functions import impute\n",
    "from tsfresh.feature_extraction import MinimalFCParameters, EfficientFCParameters ,ComprehensiveFCParameters\n",
    "from tsfresh.utilities.dataframe_functions import make_forecasting_frame"
   ]
  },
  {
   "cell_type": "code",
   "execution_count": 9,
   "metadata": {},
   "outputs": [],
   "source": [
    "train_df = pd.read_pickle(root + 'train_df.pkl')"
   ]
  },
  {
   "cell_type": "code",
   "execution_count": 39,
   "metadata": {},
   "outputs": [],
   "source": [
    "n_samples = 100000\n",
    "segments = train_df.shape[0] / n_samples"
   ]
  },
  {
   "cell_type": "code",
   "execution_count": 37,
   "metadata": {},
   "outputs": [],
   "source": [
    "train_df = pd.read_pickle(root + \"train_features.pkl\")\n",
    "train_t = train_df[:n_samples]\n",
    "\n",
    "def tsfresh_time(sett, column_sort, column_value, res):\n",
    "    for f, param in tqdm(sett.items()):\n",
    "        res.loc[f, \"feature\"] = f\n",
    "        fc_dict = {f:param}\n",
    "        t = timeit.timeit(lambda : extract_features(train_t, \n",
    "                         column_id=KEY_NAME,\n",
    "                         column_sort=column_sort,\n",
    "                         column_value=column_value,\n",
    "                         n_jobs=12, \n",
    "                         default_fc_parameters=fc_dict, \n",
    "                         disable_progressbar=True), \n",
    "                         number=3)\n",
    "        \n",
    "        res.loc[f, \"t_abs\"] = t\n",
    "    return res\n",
    "\n",
    "def show_ts_performance(settings):\n",
    "    res=pd.DataFrame()\n",
    "    res=tsfresh_time(settings, 'timestamp', 'meter_reading_log1p', res)\n",
    "    res[\"feature\"] = res.feature.astype(str)\n",
    "    res = res.sort_values(by=\"feature\")\n",
    "\n",
    "    plt.figure(figsize=(6, 10))\n",
    "    sns.barplot(y=\"feature\", x=\"t_abs\", data=res)\n",
    "    plt.title(\"Runtime of 1 apply features for 1 time series of length %d\"  % n_samples)\n",
    "    \n",
    "    print(\"Estimated running time: \", np.sum(res[\"t_abs\"]) * segments)\n",
    "    plt.show()"
   ]
  },
  {
   "cell_type": "code",
   "execution_count": 23,
   "metadata": {},
   "outputs": [],
   "source": [
    "settings = {\n",
    "'standard_deviation': None,\n",
    " 'variance': None,\n",
    " 'skewness': None,\n",
    " 'kurtosis': None,\n",
    " 'absolute_sum_of_changes': None,\n",
    "\n",
    "'last_location_of_maximum': None,\n",
    " 'first_location_of_maximum': None,\n",
    " 'last_location_of_minimum': None,\n",
    "'first_location_of_minimum': None,\n",
    "'count_above_mean': None,\n",
    " 'count_below_mean': None,\n",
    " 'maximum': None,\n",
    " 'minimum': None,\n",
    "\n",
    " 'number_peaks': [{'n': 1}, {'n': 5}],\n",
    " 'ar_coefficient': [{'coeff': 0, 'k': 10}]\n",
    "}"
   ]
  },
  {
   "cell_type": "code",
   "execution_count": null,
   "metadata": {},
   "outputs": [],
   "source": [
    "show_ts_performance(MinimalFCParameters())"
   ]
  },
  {
   "cell_type": "code",
   "execution_count": null,
   "metadata": {},
   "outputs": [],
   "source": [
    "show_ts_performance(EfficientFCParameters())"
   ]
  },
  {
   "cell_type": "code",
   "execution_count": null,
   "metadata": {},
   "outputs": [],
   "source": [
    "show_ts_performance(ComprehensiveFCParameters())"
   ]
  },
  {
   "cell_type": "code",
   "execution_count": null,
   "metadata": {},
   "outputs": [],
   "source": [
    "time_cols = ['month_datetime', 'weekofyear_datetime',\n",
    "             'dayofyear_datetime', 'hour_datetime', \n",
    "             'day_week', 'day_month_datetime',\n",
    "             'week_month_datetime']"
   ]
  },
  {
   "cell_type": "code",
   "execution_count": null,
   "metadata": {},
   "outputs": [],
   "source": [
    "import numpy as np\n",
    "import time\n",
    "from sklearn.model_selection import TimeSeriesSplit\n",
    "tscv = KFold(n_splits=5)\n",
    "\n",
    "start = time.time()\n",
    "\n",
    "X = train_df[:n_samples]\n",
    "\n",
    "def ts_features(train1, column_sort, column_value, settings):\n",
    "    X=extract_features(train1, \n",
    "                     column_id=KEY_NAME,\n",
    "                     column_sort=column_sort,\n",
    "                     column_value=column_value,\n",
    "                     default_fc_parameters=settings,\n",
    "                     #impute_function= impute,\n",
    "                     disable_progressbar=True,\n",
    "                     show_warnings=True)\n",
    "    return X\n",
    "\n",
    "\n",
    "X_filtered = pd.DataFrame()\n",
    "\n",
    "for i, (train_index, test_index) in tqdm(enumerate(tscv.split(X))):\n",
    "    X_train = X.loc[train_index] \n",
    "    features = ts_features(X_train, 'hour_datetime', 'meter_reading',  settings)\n",
    "    X_filtered = pd.concat((X_filtered, features.add_suffix(f'_{i}')), axis=1)\n",
    "    \n",
    "#X_filtered=X_filtered.reset_index().drop(['id'], axis=1)\n",
    "\n",
    "print(X_filtered.shape)\n",
    "\n",
    "end = time.time()\n",
    "print(\"Time\",end - start)"
   ]
  },
  {
   "cell_type": "code",
   "execution_count": null,
   "metadata": {},
   "outputs": [],
   "source": [
    "def ts_features(train1, column_sort, column_value, settings):\n",
    "    X=extract_features(train1, \n",
    "                     column_id=KEY_NAME,\n",
    "                     column_sort=column_sort,\n",
    "                     column_value=column_value,\n",
    "                     default_fc_parameters=settings,\n",
    "                     impute_function= impute,\n",
    "                     disable_progressbar=True,\n",
    "                     show_warnings=True)\n",
    "    return X\n",
    "\n",
    "def generate_ts_features(X_train, y_col_name, time_cols, k_folds=5):\n",
    "    tscv = KFold(n_splits=k_folds)\n",
    "    \n",
    "    start = time.time()\n",
    "\n",
    "    X_filtered = pd.DataFrame()\n",
    "\n",
    "    for time_col in time_cols:\n",
    "        print(X_train.head())\n",
    "        features = ts_features(X_train, time_col, y_col_name,  settings)\n",
    "\n",
    "        for col in features.columns:\n",
    "            features[col] = features[col].astype(np.float16)\n",
    "\n",
    "        X_filtered = pd.concat((X_filtered, features.add_suffix(f'_{i}')), axis=1)\n",
    "    \n",
    "    X_filtered = X_filtered.replace([np.inf, -np.inf, np.nan], 0)\n",
    "    impute(X_filtered)\n",
    "    \n",
    "    end = time.time()\n",
    "    print(\"Time\",end - start)\n",
    "    \n",
    "    return X_filtered\n",
    "\n",
    "\n",
    "def generate_and_merge(X_train, X_test=None):\n",
    "    features = generate_ts_features(X_train, 'meter_reading', ['hour_datetime'], k_folds=6)\n",
    "    \n",
    "    X_train = X_train.merge(features, how='left', left_on=KEY_NAME, right_on='id')\n",
    "    \n",
    "    if X_test != None:\n",
    "        X_test = X_test.merge(features, how='left', left_on=KEY_NAME, right_on='id')\n",
    "    \n",
    "    return X_train, X_test\n"
   ]
  },
  {
   "cell_type": "code",
   "execution_count": null,
   "metadata": {},
   "outputs": [],
   "source": [
    "import numpy as np\n",
    "import time\n",
    "from sklearn.model_selection import TimeSeriesSplit\n",
    "\n",
    "start = time.time()\n",
    "\n",
    "X = train_df[:n_samples]\n",
    "features = generate_ts_features(X, 'meter_reading_log1p', ['hour_datetime'], k_folds=6)\n",
    "\n",
    "end = time.time()\n",
    "print(\"Time\",end - start)"
   ]
  },
  {
   "cell_type": "code",
   "execution_count": null,
   "metadata": {},
   "outputs": [],
   "source": []
  },
  {
   "cell_type": "code",
   "execution_count": null,
   "metadata": {},
   "outputs": [],
   "source": []
  },
  {
   "cell_type": "code",
   "execution_count": null,
   "metadata": {},
   "outputs": [],
   "source": []
  }
 ],
 "metadata": {
  "kernelspec": {
   "display_name": "Python 3",
   "language": "python",
   "name": "python3"
  },
  "language_info": {
   "codemirror_mode": {
    "name": "ipython",
    "version": 3
   },
   "file_extension": ".py",
   "mimetype": "text/x-python",
   "name": "python",
   "nbconvert_exporter": "python",
   "pygments_lexer": "ipython3",
   "version": "3.7.3"
  }
 },
 "nbformat": 4,
 "nbformat_minor": 2
}

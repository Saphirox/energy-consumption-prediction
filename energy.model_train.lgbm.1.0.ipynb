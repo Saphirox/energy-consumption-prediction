{
 "cells": [
  {
   "cell_type": "code",
   "execution_count": 2,
   "metadata": {},
   "outputs": [
    {
     "name": "stderr",
     "output_type": "stream",
     "text": [
      "/Users/maksymsuprunenko/miniconda3/lib/python3.7/site-packages/lightgbm/__init__.py:48: UserWarning: Starting from version 2.2.1, the library file in distribution wheels for macOS is built by the Apple Clang (Xcode_8.3.3) compiler.\n",
      "This means that in case of installing LightGBM from PyPI via the ``pip install lightgbm`` command, you don't need to install the gcc compiler anymore.\n",
      "Instead of that, you need to install the OpenMP library, which is required for running LightGBM on the system with the Apple Clang compiler.\n",
      "You can install the OpenMP library by the following command: ``brew install libomp``.\n",
      "  \"You can install the OpenMP library by the following command: ``brew install libomp``.\", UserWarning)\n"
     ]
    }
   ],
   "source": [
    "# SKLEARN\n",
    "from sklearn.model_selection import RandomizedSearchCV, TimeSeriesSplit\n",
    "from sklearn.metrics import r2_score\n",
    "\n",
    "# LightGBM\n",
    "from lightgbm import LGBMRegressor\n",
    "import lightgbm as lgb\n",
    "\n",
    "import numpy as np\n",
    "import pandas as pd\n",
    "\n",
    "# Bayessian Optimization\n",
    "from bayes_opt import BayesianOptimization\n",
    "from hyperopt import hp\n",
    "from hyperopt import fmin, tpe, space_eval\n",
    "from hyperopt import STATUS_OK, Trials, fmin, hp, tpe"
   ]
  },
  {
   "cell_type": "code",
   "execution_count": 3,
   "metadata": {},
   "outputs": [],
   "source": [
    "def get_lgbm(params = {}):\n",
    "    return LGBMRegressor(\n",
    "           boosting_type= 'gbdt',\n",
    "           objective = 'rmsle',\n",
    "           metric = \"rmsle\",\n",
    "           random_state= 1,\n",
    "           silent = True,\n",
    "           **params)\n",
    "\n",
    "def create_submission(model, submission_name, send_submission=False, message=\"LGBM\"):\n",
    "    result = model.predict(X_test_sub.drop('revenue', axis=1))\n",
    "    submission = pd.DataFrame({\n",
    "        \"ID\": np.arange(result.shape[0]), \n",
    "        \"item_cnt_month\": result\n",
    "    })\n",
    "    submission.to_csv(submission_name, index=False)\n",
    "   \n",
    "    if send_submission:\n",
    "        !kaggle competitions submit -c ashrae-energy-prediction -f {submission_name} -m {message}"
   ]
  },
  {
   "cell_type": "code",
   "execution_count": 4,
   "metadata": {},
   "outputs": [],
   "source": [
    "train, test = pd.read_pickle('data/train.pkl'), pd.read_pickle('data/val.pkl')\n",
    "X_train, y_train, X_test, y_test = train.drop('meter', axis=1), train['meter'], test.drop('meter', axis=1), train['meter']"
   ]
  },
  {
   "cell_type": "code",
   "execution_count": 8,
   "metadata": {},
   "outputs": [],
   "source": [
    "cat_feats = ['building_id', 'site_id']"
   ]
  },
  {
   "cell_type": "code",
   "execution_count": null,
   "metadata": {},
   "outputs": [],
   "source": [
    "#%%notify -m \"Grid search LGBM was ended\"\n",
    "\n",
    "gridParams = {\n",
    "    'learning_rate': np.linspace(0.01, 2, 10),\n",
    "    'max_depth': np.arange(0, 14),\n",
    "    'n_estimators': np.arange(100, 1000, 100),\n",
    "    'num_leaves': np.arange(8, 65, 8),\n",
    "    'colsample_bytree' : [0.65, 0.66],\n",
    "    'reg_alpha' : np.arange(0, 100),\n",
    "    'reg_lambda' : np.arange(0, 100)\n",
    "}\n",
    "\n",
    "lgbm = get_lgbm()\n",
    "\n",
    "# Create the grid\n",
    "grid = RandomizedSearchCV(lgbm, gridParams, verbose=0, cv=TimeSeriesSplit(n_splits=5))\n",
    "grid.fit(X_train, y_train, \n",
    "    eval_metric=\"rmsle\", \n",
    "    eval_set=[(X_train, y_train), (X_test, y_test)], \n",
    "#    evals_result=evals_result,\n",
    "    verbose=10, \n",
    "    early_stopping_rounds=20,\n",
    "    categorical_feature = cat_feats)\n"
   ]
  },
  {
   "cell_type": "code",
   "execution_count": null,
   "metadata": {},
   "outputs": [],
   "source": [
    "grid.best_paramt"
   ]
  },
  {
   "cell_type": "code",
   "execution_count": null,
   "metadata": {},
   "outputs": [],
   "source": []
  }
 ],
 "metadata": {
  "kernelspec": {
   "display_name": "Python 3",
   "language": "python",
   "name": "python3"
  },
  "language_info": {
   "codemirror_mode": {
    "name": "ipython",
    "version": 3
   },
   "file_extension": ".py",
   "mimetype": "text/x-python",
   "name": "python",
   "nbconvert_exporter": "python",
   "pygments_lexer": "ipython3",
   "version": "3.7.3"
  }
 },
 "nbformat": 4,
 "nbformat_minor": 2
}

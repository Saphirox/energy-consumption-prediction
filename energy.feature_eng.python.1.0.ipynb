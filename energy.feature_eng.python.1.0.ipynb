{
 "cells": [
  {
   "cell_type": "markdown",
   "metadata": {
    "pycharm": {
     "name": "#%% # <center> Feature engineering\n"
    }
   },
   "source": [
    "# <center> Feature generation"
   ]
  },
  {
   "cell_type": "code",
   "execution_count": 1,
   "metadata": {},
   "outputs": [],
   "source": [
    "%store -r __ipy\n",
    "%store -r __da"
   ]
  },
  {
   "cell_type": "code",
   "execution_count": 2,
   "metadata": {},
   "outputs": [
    {
     "name": "stdout",
     "output_type": "stream",
     "text": [
      "Helper ipython script loaded\n"
     ]
    },
    {
     "data": {
      "text/html": [
       "\n",
       "<style>\n",
       "    body {\n",
       "          font-family: Helvetica, Times New Roman, sans-serif;\n",
       "    }\n",
       "    \n",
       "    h1,h2, h3,h4,h5,h6 {\n",
       "        font-family: Rockwell, Times New Roman, sans-serif;\n",
       "    }\n",
       "</style>\n"
      ],
      "text/plain": [
       "<IPython.core.display.HTML object>"
      ]
     },
     "metadata": {},
     "output_type": "display_data"
    }
   ],
   "source": [
    "__ipy"
   ]
  },
  {
   "cell_type": "code",
   "execution_count": 3,
   "metadata": {},
   "outputs": [
    {
     "data": {
      "text/html": [
       "        <script type=\"text/javascript\">\n",
       "        window.PlotlyConfig = {MathJaxConfig: 'local'};\n",
       "        if (window.MathJax) {MathJax.Hub.Config({SVG: {font: \"STIX-Web\"}});}\n",
       "        if (typeof require !== 'undefined') {\n",
       "        require.undef(\"plotly\");\n",
       "        requirejs.config({\n",
       "            paths: {\n",
       "                'plotly': ['https://cdn.plot.ly/plotly-latest.min']\n",
       "            }\n",
       "        });\n",
       "        require(['plotly'], function(Plotly) {\n",
       "            window._Plotly = Plotly;\n",
       "        });\n",
       "        }\n",
       "        </script>\n",
       "        "
      ]
     },
     "metadata": {},
     "output_type": "display_data"
    },
    {
     "name": "stdout",
     "output_type": "stream",
     "text": [
      "Basic Data Analysis tools was loaded\n"
     ]
    }
   ],
   "source": [
    "__da"
   ]
  },
  {
   "cell_type": "code",
   "execution_count": 121,
   "metadata": {},
   "outputs": [],
   "source": [
    "# Bayessian Optimization\n",
    "from bayes_opt import BayesianOptimization\n",
    "from hyperopt import hp\n",
    "from hyperopt import fmin, tpe, space_eval\n",
    "from hyperopt import STATUS_OK, Trials, fmin, hp, tpe\n",
    "from sklearn.metrics import mean_squared_error \n",
    "\n",
    "from hyperopt.pyll import scope "
   ]
  },
  {
   "cell_type": "code",
   "execution_count": 4,
   "metadata": {},
   "outputs": [],
   "source": [
    "root = 'data/'"
   ]
  },
  {
   "cell_type": "code",
   "execution_count": 5,
   "metadata": {},
   "outputs": [
    {
     "name": "stderr",
     "output_type": "stream",
     "text": [
      "100%|███████████████████████████████████████████████████████████████████████████████████████████████████████████████████████████████████████████████████████████████████████████████████████████████████████████████████████████| 139773/139773 [00:05<00:00, 26087.56it/s]\n"
     ]
    }
   ],
   "source": [
    "weather_df = pd.read_csv(\"data/weather_train.csv\")\n",
    "\n",
    "\n",
    "weather_df['has_nan'] =  weather_df.isnull().progress_apply(lambda x: 1 if np.any(x) else 0, axis=1)\n",
    "weather_df['timestamp'] = pd.to_datetime(weather_df['timestamp'], infer_datetime_format=False)\n",
    "weather_df.fillna(0, inplace=True)\n",
    "weather_df.to_pickle(root + 'weather_df.pkl')"
   ]
  },
  {
   "cell_type": "code",
   "execution_count": 4,
   "metadata": {},
   "outputs": [],
   "source": [
    "train_df = pd.read_pickle(root + 'train_df.pkl')\n",
    "test_df = pd.read_pickle(root + 'test_df.pkl')\n",
    "\n",
    "train_df = train_df.query('not (building_id <= 104 & meter == 0 & timestamp <= \"2016-05-20\")')"
   ]
  },
  {
   "cell_type": "code",
   "execution_count": 5,
   "metadata": {},
   "outputs": [],
   "source": [
    "train_df['age'] = train_df['year_built'].max() - train_df['year_built'] + 1\n",
    "test_df['age'] = test_df['year_built'].max() - test_df['year_built'] + 1"
   ]
  },
  {
   "cell_type": "code",
   "execution_count": 6,
   "metadata": {},
   "outputs": [
    {
     "name": "stdout",
     "output_type": "stream",
     "text": [
      "Wall time: 1min 3s\n"
     ]
    }
   ],
   "source": [
    "%%time\n",
    "from sklearn.preprocessing import LabelEncoder\n",
    "import math\n",
    "\n",
    "le = LabelEncoder()\n",
    "train_df['primary_use'] = train_df['primary_use'].astype(str)\n",
    "train_df['primary_use'] = le.fit_transform(train_df['primary_use']).astype(np.int8)\n",
    "\n",
    "test_df['primary_use'] = test_df['primary_use'].astype(str)\n",
    "test_df['primary_use'] = le.fit_transform(test_df['primary_use']).astype(np.int8)\n",
    "\n",
    "train_df['floor_count'] = train_df['floor_count'].fillna(-999).astype(np.int16)\n",
    "test_df['floor_count'] = test_df['floor_count'].fillna(-999).astype(np.int16)\n",
    "\n",
    "train_df['year_built'] = train_df['year_built'].fillna(-999).astype(np.int16)\n",
    "test_df['year_built'] = test_df['year_built'].fillna(-999).astype(np.int16)\n",
    "\n",
    "train_df['age'] = train_df['age'].fillna(-999).astype(np.int16)\n",
    "test_df['age'] = test_df['age'].fillna(-999).astype(np.int16)\n",
    "\n",
    "train_df['cloud_coverage'] = train_df['cloud_coverage'].fillna(-999).astype(np.int16)\n",
    "test_df['cloud_coverage'] = test_df['cloud_coverage'].fillna(-999).astype(np.int16) \n",
    "\n",
    "\n",
    "train_df['month_datetime'] = train_df['timestamp'].dt.month.astype(np.int8)\n",
    "train_df['weekofyear_datetime'] = train_df['timestamp'].dt.weekofyear.astype(np.int8)\n",
    "train_df['dayofyear_datetime'] = train_df['timestamp'].dt.dayofyear.astype(np.int16)\n",
    "    \n",
    "train_df['hour_datetime'] = train_df['timestamp'].dt.hour.astype(np.int8)  \n",
    "train_df['day_week'] = train_df['timestamp'].dt.dayofweek.astype(np.int8)\n",
    "train_df['day_month_datetime'] = train_df['timestamp'].dt.day.astype(np.int8)\n",
    "train_df['week_month_datetime'] = train_df['timestamp'].dt.day/7\n",
    "train_df['week_month_datetime'] = train_df['week_month_datetime'].apply(lambda x: math.ceil(x)).astype(np.int8)\n",
    "    \n",
    "    \n",
    "test_df['month_datetime'] = test_df['timestamp'].dt.month.astype(np.int8)\n",
    "test_df['weekofyear_datetime'] = test_df['timestamp'].dt.weekofyear.astype(np.int8)\n",
    "test_df['dayofyear_datetime'] = test_df['timestamp'].dt.dayofyear.astype(np.int16)\n",
    "    \n",
    "test_df['hour_datetime'] = test_df['timestamp'].dt.hour.astype(np.int8)\n",
    "test_df['day_week'] = test_df['timestamp'].dt.dayofweek.astype(np.int8)\n",
    "test_df['day_month_datetime'] = test_df['timestamp'].dt.day.astype(np.int8)\n",
    "test_df['week_month_datetime'] = test_df['timestamp'].dt.day/7\n",
    "test_df['week_month_datetime'] = test_df['week_month_datetime'].apply(lambda x: math.ceil(x)).astype(np.int8)"
   ]
  },
  {
   "cell_type": "code",
   "execution_count": 11,
   "metadata": {},
   "outputs": [],
   "source": [
    "from tqdm.auto import tqdm\n",
    "tqdm.pandas()\n",
    "\n",
    "KEY = ['building_id', 'meter', 'site_id']\n",
    "KEY_NAME = 'building_id__meter__key'\n",
    "\n",
    "def to_key(train_df):\n",
    "    le_key = LabelEncoder()\n",
    "    train_df[KEY_NAME] = train_df[KEY].progress_apply(\\\n",
    "        lambda x: str(x['building_id']) + \"_\" + str(x['meter']) + \"_\" +   str(x['site_id']), axis=1)\n",
    "    \n",
    "    le_key.fit(train_df[KEY_NAME])\n",
    "    train_df[KEY_NAME] = le_key.transform(train_df[KEY_NAME])\n",
    "    train_df[KEY_NAME] = train_df[KEY_NAME].astype(np.int32)\n",
    "    return train_df\n",
    "\n",
    "train_df = to_key(train_df)\n",
    "#test_df = to_key(test_df)"
   ]
  },
  {
   "cell_type": "code",
   "execution_count": 8,
   "metadata": {},
   "outputs": [],
   "source": [
    "train_df['meter_reading_log1p'] = np.log1p(train_df['meter_reading'])"
   ]
  },
  {
   "cell_type": "code",
   "execution_count": 79,
   "metadata": {},
   "outputs": [],
   "source": [
    "from tqdm.auto import tqdm "
   ]
  },
  {
   "cell_type": "code",
   "execution_count": 7,
   "metadata": {},
   "outputs": [],
   "source": [
    "train_df = pd.read_pickle(root + \"temp.pkl\")"
   ]
  },
  {
   "cell_type": "code",
   "execution_count": 89,
   "metadata": {},
   "outputs": [],
   "source": [
    "feat_cols = ['building_id', 'meter', 'site_id',\n",
    "       'primary_use', 'square_feet', 'year_built', 'floor_count',\n",
    "       'air_temperature', 'cloud_coverage', 'dew_temperature',\n",
    "       'precip_depth_1_hr', 'sea_level_pressure', 'wind_direction',\n",
    "       'wind_speed', 'age', 'month_datetime', 'weekofyear_datetime',\n",
    "       'dayofyear_datetime', 'hour_datetime', 'day_week', 'day_month_datetime',\n",
    "       'week_month_datetime', 'building_id__meter__key']\n",
    "\n",
    "categoricals =  ['building_id', 'meter','site_id',\n",
    "       'primary_use', 'year_built', 'age', 'month_datetime', 'weekofyear_datetime',\n",
    "       'dayofyear_datetime', 'hour_datetime', 'day_week', 'day_month_datetime',\n",
    "       'week_month_datetime', 'building_id__meter__key']"
   ]
  },
  {
   "cell_type": "code",
   "execution_count": 90,
   "metadata": {},
   "outputs": [],
   "source": [
    "full_train_df = train_df[feat_cols]\n",
    "target = train_df['meter_reading_log1p']"
   ]
  },
  {
   "cell_type": "code",
   "execution_count": 91,
   "metadata": {},
   "outputs": [],
   "source": [
    "from sklearn.model_selection import *\n",
    "import lightgbm as lgb\n",
    "\n",
    "def model_train():\n",
    "    params = {\n",
    "            'boosting_type': 'gbdt',\n",
    "            'objective': 'regression',\n",
    "            'metric': {'rmse'},\n",
    "            'subsample': 0.4,\n",
    "            'subsample_freq': 1,\n",
    "            'learning_rate': 0.3,\n",
    "            'num_leaves': 40,\n",
    "            'feature_fraction': 0.75,\n",
    "            'lambda_l1': 1,\n",
    "            'lambda_l2': 1\n",
    "    }\n",
    "    \n",
    "    folds = 2\n",
    "    seed = 666\n",
    "\n",
    "    kf = StratifiedKFold(n_splits=folds, shuffle=False, random_state=seed)\n",
    "\n",
    "    models = []\n",
    "    for train_index, val_index in tqdm(kf.split(full_train_df, full_train_df['building_id'])):\n",
    "        train_X = full_train_df.iloc[train_index]\n",
    "        val_X = full_train_df.iloc[val_index]\n",
    "        train_y = target.iloc[train_index]\n",
    "        val_y = target.iloc[val_index]\n",
    "        lgb_train = lgb.Dataset(train_X, train_y, categorical_feature=categoricals)\n",
    "        lgb_eval = lgb.Dataset(val_X, val_y, categorical_feature=categoricals)\n",
    "        gbm = lgb.train(params,\n",
    "                    lgb_train,\n",
    "                    num_boost_round=500,\n",
    "                    valid_sets=(lgb_train, lgb_eval),\n",
    "                    early_stopping_rounds=100,\n",
    "                    verbose_eval = 100)\n",
    "        models.append(gbm)        \n",
    "    return models        "
   ]
  },
  {
   "cell_type": "code",
   "execution_count": 92,
   "metadata": {},
   "outputs": [
    {
     "data": {
      "application/vnd.jupyter.widget-view+json": {
       "model_id": "8976b6e3f1ec44678b023581e999ce62",
       "version_major": 2,
       "version_minor": 0
      },
      "text/plain": [
       "HBox(children=(IntProgress(value=1, bar_style='info', max=1), HTML(value='')))"
      ]
     },
     "metadata": {},
     "output_type": "display_data"
    },
    {
     "name": "stdout",
     "output_type": "stream",
     "text": [
      "Training until validation scores don't improve for 100 rounds\n",
      "[100]\ttraining's rmse: 0.695419\tvalid_1's rmse: 1.30668\n",
      "Early stopping, best iteration is:\n",
      "[26]\ttraining's rmse: 0.821417\tvalid_1's rmse: 1.19296\n",
      "Training until validation scores don't improve for 100 rounds\n",
      "[100]\ttraining's rmse: 0.684807\tvalid_1's rmse: 1.76938\n",
      "Early stopping, best iteration is:\n",
      "[5]\ttraining's rmse: 1.15534\tvalid_1's rmse: 1.37261\n",
      "\n"
     ]
    }
   ],
   "source": [
    "model_train()"
   ]
  },
  {
   "cell_type": "markdown",
   "metadata": {},
   "source": [
    "## TSFresh"
   ]
  },
  {
   "cell_type": "code",
   "execution_count": 8,
   "metadata": {},
   "outputs": [],
   "source": [
    "settings={\n",
    "'standard_deviation': None,\n",
    " 'variance': None,\n",
    " 'skewness': None,\n",
    " 'kurtosis': None,\n",
    " 'absolute_sum_of_changes': None,\n",
    "\n",
    "'last_location_of_maximum': None,\n",
    " 'first_location_of_maximum': None,\n",
    " 'last_location_of_minimum': None,\n",
    "'first_location_of_minimum': None,\n",
    "'count_above_mean': None,\n",
    " 'count_below_mean': None,\n",
    " 'maximum': None,\n",
    " 'minimum': None,\n",
    "\n",
    " 'c3': [{'lag': 100}, {'lag': 2000}, {'lag': 3000},{'lag': 10000}],\n",
    "\n",
    "'number_peaks': [{'n': 1}, {'n': 5},{'n': 100},{'n': 1000}],\n",
    "'fft_coefficient': \n",
    " [{'coeff': 0, 'attr': 'real'},\n",
    "  {'coeff': 1, 'attr': 'real'},\n",
    "  {'coeff': 2, 'attr': 'real'},\n",
    "  {'coeff': 3, 'attr': 'real'},\n",
    "  {'coeff': 4, 'attr': 'real'},\n",
    "\n",
    "  {'coeff': 0, 'attr': 'imag'},\n",
    "  {'coeff': 1, 'attr': 'imag'},\n",
    "  {'coeff': 2, 'attr': 'imag'},\n",
    "  {'coeff': 3, 'attr': 'imag'},\n",
    "  {'coeff': 4, 'attr': 'imag'},\n",
    "  {'coeff': 5, 'attr': 'imag'},\n",
    "\n",
    "  {'coeff': 0, 'attr': 'abs'},\n",
    "  {'coeff': 1, 'attr': 'abs'},\n",
    "  {'coeff': 2, 'attr': 'abs'},\n",
    "  {'coeff': 3, 'attr': 'abs'},\n",
    "  {'coeff': 4, 'attr': 'abs'},\n",
    "  {'coeff': 5, 'attr': 'abs'},\n",
    "\n",
    "  {'coeff': 0, 'attr': 'angle'},\n",
    "  {'coeff': 1, 'attr': 'angle'},\n",
    "  {'coeff': 2, 'attr': 'angle'},\n",
    "  {'coeff': 3, 'attr': 'angle'},\n",
    "  {'coeff': 4, 'attr': 'angle'},\n",
    "  {'coeff': 5, 'attr': 'angle'},\n",
    "],\n",
    " 'agg_linear_trend': [\n",
    "     {'attr': 'rvalue', 'chunk_len': 500, 'f_agg': 'max'},\n",
    "  {'attr': 'rvalue', 'chunk_len': 500, 'f_agg': 'min'},\n",
    "  {'attr': 'rvalue', 'chunk_len': 500, 'f_agg': 'mean'},\n",
    "  {'attr': 'rvalue', 'chunk_len': 500, 'f_agg': 'var'},\n",
    "  {'attr': 'rvalue', 'chunk_len': 1000, 'f_agg': 'max'},\n",
    "  {'attr': 'rvalue', 'chunk_len': 1000, 'f_agg': 'min'},\n",
    "  {'attr': 'rvalue', 'chunk_len': 1000, 'f_agg': 'mean'},\n",
    "  {'attr': 'rvalue', 'chunk_len': 1000, 'f_agg': 'var'},\n",
    "  {'attr': 'rvalue', 'chunk_len': 5000, 'f_agg': 'max'},\n",
    "  {'attr': 'rvalue', 'chunk_len': 5000, 'f_agg': 'min'},\n",
    "  {'attr': 'rvalue', 'chunk_len': 5000, 'f_agg': 'mean'},\n",
    "  {'attr': 'rvalue', 'chunk_len': 5000, 'f_agg': 'var'},\n",
    "  {'attr': 'intercept', 'chunk_len': 500, 'f_agg': 'max'},\n",
    "  {'attr': 'intercept', 'chunk_len': 500, 'f_agg': 'min'},\n",
    "  {'attr': 'intercept', 'chunk_len': 500, 'f_agg': 'mean'},\n",
    "  {'attr': 'intercept', 'chunk_len': 500, 'f_agg': 'var'},\n",
    "  {'attr': 'intercept', 'chunk_len': 1000, 'f_agg': 'max'},\n",
    "  {'attr': 'intercept', 'chunk_len': 1000, 'f_agg': 'min'},\n",
    "  {'attr': 'intercept', 'chunk_len': 1000, 'f_agg': 'mean'},\n",
    "  {'attr': 'intercept', 'chunk_len': 1000, 'f_agg': 'var'},\n",
    "  {'attr': 'intercept', 'chunk_len': 5000, 'f_agg': 'max'},\n",
    "  {'attr': 'intercept', 'chunk_len': 5000, 'f_agg': 'min'},\n",
    "  {'attr': 'intercept', 'chunk_len': 5000, 'f_agg': 'mean'},\n",
    "  {'attr': 'intercept', 'chunk_len': 5000, 'f_agg': 'var'},\n",
    "  {'attr': 'slope', 'chunk_len': 500, 'f_agg': 'max'},\n",
    "  {'attr': 'slope', 'chunk_len': 500, 'f_agg': 'min'},\n",
    "  {'attr': 'slope', 'chunk_len': 500, 'f_agg': 'mean'},\n",
    "  {'attr': 'slope', 'chunk_len': 500, 'f_agg': 'var'},\n",
    "  {'attr': 'slope', 'chunk_len': 1000, 'f_agg': 'max'},\n",
    "  {'attr': 'slope', 'chunk_len': 1000, 'f_agg': 'min'},\n",
    "  {'attr': 'slope', 'chunk_len': 1000, 'f_agg': 'mean'},\n",
    "  {'attr': 'slope', 'chunk_len': 1000, 'f_agg': 'var'},\n",
    "  {'attr': 'slope', 'chunk_len': 5000, 'f_agg': 'max'},\n",
    "  {'attr': 'slope', 'chunk_len': 5000, 'f_agg': 'min'},\n",
    "  {'attr': 'slope', 'chunk_len': 5000, 'f_agg': 'mean'},\n",
    "  {'attr': 'slope', 'chunk_len': 5000, 'f_agg': 'var'},\n",
    "  {'attr': 'stderr', 'chunk_len': 500, 'f_agg': 'max'},\n",
    "  {'attr': 'stderr', 'chunk_len': 500, 'f_agg': 'min'},\n",
    "  {'attr': 'stderr', 'chunk_len': 500, 'f_agg': 'mean'},\n",
    "  {'attr': 'stderr', 'chunk_len': 500, 'f_agg': 'var'},\n",
    "  {'attr': 'stderr', 'chunk_len': 1000, 'f_agg': 'max'},\n",
    "  {'attr': 'stderr', 'chunk_len': 1000, 'f_agg': 'min'},\n",
    "  {'attr': 'stderr', 'chunk_len': 1000, 'f_agg': 'mean'},\n",
    "  {'attr': 'stderr', 'chunk_len': 1000, 'f_agg': 'var'},\n",
    "  {'attr': 'stderr', 'chunk_len': 5000, 'f_agg': 'max'},\n",
    "  {'attr': 'stderr', 'chunk_len': 5000, 'f_agg': 'min'},\n",
    "  {'attr': 'stderr', 'chunk_len': 5000, 'f_agg': 'mean'},\n",
    "  {'attr': 'stderr', 'chunk_len': 5000, 'f_agg': 'var'}],\n",
    " 'index_mass_quantile': [{'q': 0.1},\n",
    "  {'q': 0.2},\n",
    "  {'q': 0.3},\n",
    "  {'q': 0.4},\n",
    "  {'q': 0.6},\n",
    "  {'q': 0.7},\n",
    "  {'q': 0.8},\n",
    "  {'q': 0.9}],\n",
    "\n",
    " 'spkt_welch_density': [{'coeff': 2}, {'coeff': 5}, {'coeff': 8}],\n",
    " 'ar_coefficient': [{'coeff': 0, 'k': 10},\n",
    "  {'coeff': 1, 'k': 10},\n",
    "  {'coeff': 2, 'k': 10},\n",
    "  {'coeff': 3, 'k': 10},\n",
    "  {'coeff': 4, 'k': 10}],\n",
    "\n",
    " 'energy_ratio_by_chunks': [{'num_segments': 10, 'segment_focus': 0},\n",
    "  {'num_segments': 10, 'segment_focus': 1},\n",
    "  {'num_segments': 10, 'segment_focus': 2},\n",
    "  {'num_segments': 10, 'segment_focus': 3},\n",
    "  {'num_segments': 10, 'segment_focus': 4},\n",
    "  {'num_segments': 10, 'segment_focus': 5},\n",
    "  {'num_segments': 10, 'segment_focus': 6},\n",
    "  {'num_segments': 10, 'segment_focus': 7},\n",
    "  {'num_segments': 10, 'segment_focus': 8},\n",
    "  {'num_segments': 10, 'segment_focus': 9}],\n",
    " 'ratio_beyond_r_sigma': [{'r': 0.5},\n",
    "  {'r': 1},\n",
    "  {'r': 1.5},\n",
    "  {'r': 2},\n",
    "  {'r': 2.5},\n",
    "  {'r': 3},\n",
    "  {'r': 5},\n",
    "  {'r': 6},\n",
    "  {'r': 7},\n",
    "  {'r': 10}],\n",
    "'max_langevin_fixed_point': [{'m': 3, 'r': 30}],\n",
    "    'change_quantiles': [{'ql': 0.0, 'qh': 0.2, 'isabs': False, 'f_agg': 'mean'},\n",
    "  {'ql': 0.0, 'qh': 0.2, 'isabs': False, 'f_agg': 'var'},\n",
    "  {'ql': 0.0, 'qh': 0.2, 'isabs': True, 'f_agg': 'mean'},\n",
    "  {'ql': 0.0, 'qh': 0.2, 'isabs': True, 'f_agg': 'var'},\n",
    "  {'ql': 0.0, 'qh': 0.4, 'isabs': False, 'f_agg': 'mean'},\n",
    "  {'ql': 0.0, 'qh': 0.4, 'isabs': False, 'f_agg': 'var'},\n",
    "  {'ql': 0.0, 'qh': 0.4, 'isabs': True, 'f_agg': 'mean'},\n",
    "  {'ql': 0.0, 'qh': 0.4, 'isabs': True, 'f_agg': 'var'},\n",
    "  {'ql': 0.0, 'qh': 0.6, 'isabs': False, 'f_agg': 'mean'},\n",
    "  {'ql': 0.0, 'qh': 0.6, 'isabs': False, 'f_agg': 'var'},\n",
    "  {'ql': 0.0, 'qh': 0.6, 'isabs': True, 'f_agg': 'mean'},\n",
    "  {'ql': 0.0, 'qh': 0.6, 'isabs': True, 'f_agg': 'var'},\n",
    "  {'ql': 0.0, 'qh': 0.8, 'isabs': False, 'f_agg': 'mean'},\n",
    "  {'ql': 0.0, 'qh': 0.8, 'isabs': False, 'f_agg': 'var'},\n",
    "  {'ql': 0.0, 'qh': 0.8, 'isabs': True, 'f_agg': 'mean'},\n",
    "  {'ql': 0.0, 'qh': 0.8, 'isabs': True, 'f_agg': 'var'},\n",
    "  {'ql': 0.0, 'qh': 1.0, 'isabs': False, 'f_agg': 'mean'}]\n",
    "\n",
    "}"
   ]
  },
  {
   "cell_type": "code",
   "execution_count": 12,
   "metadata": {},
   "outputs": [],
   "source": [
    "import matplotlib.pyplot as plt\n",
    "import lightgbm as lgb\n",
    "from tsfresh import extract_features, extract_relevant_features, select_features\n",
    "from tsfresh.utilities.dataframe_functions import impute\n",
    "import numpy as np\n",
    "import pandas as pd\n",
    "from tsfresh.feature_extraction import MinimalFCParameters, EfficientFCParameters ,ComprehensiveFCParameters\n",
    "from sklearn.model_selection import KFold, cross_validate, cross_val_predict\n",
    "import timeit\n",
    "import seaborn as sns\n",
    "import sys\n",
    "import time\n",
    "from tqdm import tqdm\n",
    "import warnings\n",
    "from tsfresh.utilities.dataframe_functions import make_forecasting_frame\n"
   ]
  },
  {
   "cell_type": "code",
   "execution_count": 41,
   "metadata": {},
   "outputs": [
    {
     "data": {
      "text/html": [
       "<div>\n",
       "<style scoped>\n",
       "    .dataframe tbody tr th:only-of-type {\n",
       "        vertical-align: middle;\n",
       "    }\n",
       "\n",
       "    .dataframe tbody tr th {\n",
       "        vertical-align: top;\n",
       "    }\n",
       "\n",
       "    .dataframe thead th {\n",
       "        text-align: right;\n",
       "    }\n",
       "</style>\n",
       "<table border=\"1\" class=\"dataframe\">\n",
       "  <thead>\n",
       "    <tr style=\"text-align: right;\">\n",
       "      <th></th>\n",
       "      <th>building_id</th>\n",
       "      <th>meter</th>\n",
       "      <th>timestamp</th>\n",
       "      <th>meter_reading</th>\n",
       "      <th>site_id</th>\n",
       "      <th>primary_use</th>\n",
       "      <th>square_feet</th>\n",
       "      <th>year_built</th>\n",
       "      <th>floor_count</th>\n",
       "      <th>air_temperature</th>\n",
       "      <th>...</th>\n",
       "      <th>age</th>\n",
       "      <th>month_datetime</th>\n",
       "      <th>weekofyear_datetime</th>\n",
       "      <th>dayofyear_datetime</th>\n",
       "      <th>hour_datetime</th>\n",
       "      <th>day_week</th>\n",
       "      <th>day_month_datetime</th>\n",
       "      <th>week_month_datetime</th>\n",
       "      <th>building_id__meter__key</th>\n",
       "      <th>meter_reading_log1p</th>\n",
       "    </tr>\n",
       "  </thead>\n",
       "  <tbody>\n",
       "    <tr>\n",
       "      <th>103</th>\n",
       "      <td>105</td>\n",
       "      <td>0</td>\n",
       "      <td>2016-01-01</td>\n",
       "      <td>23.30</td>\n",
       "      <td>1</td>\n",
       "      <td>0</td>\n",
       "      <td>50623</td>\n",
       "      <td>-999</td>\n",
       "      <td>5</td>\n",
       "      <td>3.80</td>\n",
       "      <td>...</td>\n",
       "      <td>-999</td>\n",
       "      <td>1</td>\n",
       "      <td>53</td>\n",
       "      <td>1</td>\n",
       "      <td>0</td>\n",
       "      <td>4</td>\n",
       "      <td>1</td>\n",
       "      <td>1</td>\n",
       "      <td>94</td>\n",
       "      <td>3.19</td>\n",
       "    </tr>\n",
       "    <tr>\n",
       "      <th>104</th>\n",
       "      <td>106</td>\n",
       "      <td>0</td>\n",
       "      <td>2016-01-01</td>\n",
       "      <td>0.37</td>\n",
       "      <td>1</td>\n",
       "      <td>0</td>\n",
       "      <td>5374</td>\n",
       "      <td>-999</td>\n",
       "      <td>4</td>\n",
       "      <td>3.80</td>\n",
       "      <td>...</td>\n",
       "      <td>-999</td>\n",
       "      <td>1</td>\n",
       "      <td>53</td>\n",
       "      <td>1</td>\n",
       "      <td>0</td>\n",
       "      <td>4</td>\n",
       "      <td>1</td>\n",
       "      <td>1</td>\n",
       "      <td>105</td>\n",
       "      <td>0.32</td>\n",
       "    </tr>\n",
       "    <tr>\n",
       "      <th>105</th>\n",
       "      <td>106</td>\n",
       "      <td>3</td>\n",
       "      <td>2016-01-01</td>\n",
       "      <td>0.00</td>\n",
       "      <td>1</td>\n",
       "      <td>0</td>\n",
       "      <td>5374</td>\n",
       "      <td>-999</td>\n",
       "      <td>4</td>\n",
       "      <td>3.80</td>\n",
       "      <td>...</td>\n",
       "      <td>-999</td>\n",
       "      <td>1</td>\n",
       "      <td>53</td>\n",
       "      <td>1</td>\n",
       "      <td>0</td>\n",
       "      <td>4</td>\n",
       "      <td>1</td>\n",
       "      <td>1</td>\n",
       "      <td>106</td>\n",
       "      <td>0.00</td>\n",
       "    </tr>\n",
       "    <tr>\n",
       "      <th>106</th>\n",
       "      <td>107</td>\n",
       "      <td>0</td>\n",
       "      <td>2016-01-01</td>\n",
       "      <td>175.18</td>\n",
       "      <td>1</td>\n",
       "      <td>0</td>\n",
       "      <td>97532</td>\n",
       "      <td>2005</td>\n",
       "      <td>10</td>\n",
       "      <td>3.80</td>\n",
       "      <td>...</td>\n",
       "      <td>13</td>\n",
       "      <td>1</td>\n",
       "      <td>53</td>\n",
       "      <td>1</td>\n",
       "      <td>0</td>\n",
       "      <td>4</td>\n",
       "      <td>1</td>\n",
       "      <td>1</td>\n",
       "      <td>128</td>\n",
       "      <td>5.17</td>\n",
       "    </tr>\n",
       "    <tr>\n",
       "      <th>107</th>\n",
       "      <td>108</td>\n",
       "      <td>0</td>\n",
       "      <td>2016-01-01</td>\n",
       "      <td>91.27</td>\n",
       "      <td>1</td>\n",
       "      <td>0</td>\n",
       "      <td>81580</td>\n",
       "      <td>1913</td>\n",
       "      <td>5</td>\n",
       "      <td>3.80</td>\n",
       "      <td>...</td>\n",
       "      <td>105</td>\n",
       "      <td>1</td>\n",
       "      <td>53</td>\n",
       "      <td>1</td>\n",
       "      <td>0</td>\n",
       "      <td>4</td>\n",
       "      <td>1</td>\n",
       "      <td>1</td>\n",
       "      <td>148</td>\n",
       "      <td>4.52</td>\n",
       "    </tr>\n",
       "  </tbody>\n",
       "</table>\n",
       "<p>5 rows × 26 columns</p>\n",
       "</div>"
      ],
      "text/plain": [
       "     building_id  meter  timestamp  meter_reading  site_id  primary_use  \\\n",
       "103          105      0 2016-01-01          23.30        1            0   \n",
       "104          106      0 2016-01-01           0.37        1            0   \n",
       "105          106      3 2016-01-01           0.00        1            0   \n",
       "106          107      0 2016-01-01         175.18        1            0   \n",
       "107          108      0 2016-01-01          91.27        1            0   \n",
       "\n",
       "     square_feet  year_built  floor_count  air_temperature  \\\n",
       "103        50623        -999            5             3.80   \n",
       "104         5374        -999            4             3.80   \n",
       "105         5374        -999            4             3.80   \n",
       "106        97532        2005           10             3.80   \n",
       "107        81580        1913            5             3.80   \n",
       "\n",
       "            ...           age  month_datetime  weekofyear_datetime  \\\n",
       "103         ...          -999               1                   53   \n",
       "104         ...          -999               1                   53   \n",
       "105         ...          -999               1                   53   \n",
       "106         ...            13               1                   53   \n",
       "107         ...           105               1                   53   \n",
       "\n",
       "     dayofyear_datetime  hour_datetime  day_week  day_month_datetime  \\\n",
       "103                   1              0         4                   1   \n",
       "104                   1              0         4                   1   \n",
       "105                   1              0         4                   1   \n",
       "106                   1              0         4                   1   \n",
       "107                   1              0         4                   1   \n",
       "\n",
       "     week_month_datetime  building_id__meter__key  meter_reading_log1p  \n",
       "103                    1                       94                 3.19  \n",
       "104                    1                      105                 0.32  \n",
       "105                    1                      106                 0.00  \n",
       "106                    1                      128                 5.17  \n",
       "107                    1                      148                 4.52  \n",
       "\n",
       "[5 rows x 26 columns]"
      ]
     },
     "execution_count": 41,
     "metadata": {},
     "output_type": "execute_result"
    }
   ],
   "source": [
    "train_df.head()"
   ]
  },
  {
   "cell_type": "markdown",
   "metadata": {},
   "source": [
    "**Test features**"
   ]
  },
  {
   "cell_type": "code",
   "execution_count": 50,
   "metadata": {},
   "outputs": [],
   "source": [
    "n_samples = 100000\n",
    "train_t = train_df[:n_samples]\n",
    "\n",
    "def tsfresh_time(sett, column_sort, column_value):\n",
    "    for f, param in tqdm(sett.items()):\n",
    "        res.loc[f, \"feature\"] = f\n",
    "        fc_dict = {f:param}\n",
    "        t = timeit.timeit(lambda : extract_features(train_t, \n",
    "                         column_id=KEY_NAME,\n",
    "                         column_sort=column_sort,\n",
    "                         column_value=column_value,\n",
    "                         n_jobs=12, \n",
    "                         default_fc_parameters=fc_dict, \n",
    "                         disable_progressbar=True), \n",
    "                         number=3)\n",
    "        \n",
    "        res.loc[f, \"t_abs\"] = t\n",
    "    return res"
   ]
  },
  {
   "cell_type": "code",
   "execution_count": 51,
   "metadata": {},
   "outputs": [
    {
     "name": "stderr",
     "output_type": "stream",
     "text": [
      "100%|██████████████████████████████████████████████████████████████████████████████████████████████████████████████████████████████████████████████████████████████████████████████████████████████████████████████████████████████████████| 24/24 [02:54<00:00,  7.29s/it]\n"
     ]
    },
    {
     "data": {
      "image/png": "[encoded data removed]",
      "text/plain": [
       "<Figure size 432x1440 with 1 Axes>"
      ]
     },
     "metadata": {
      "needs_background": "light"
     },
     "output_type": "display_data"
    }
   ],
   "source": [
    "res=pd.DataFrame()\n",
    "res=tsfresh_time(settings, 'timestamp', 'meter_reading')\n",
    "res[\"feature\"] = res.feature.astype(str)\n",
    "res = res.sort_values(by=\"feature\")\n",
    "\n",
    "plt.figure(figsize=(6, 20))\n",
    "sns.barplot(y=\"feature\", x=\"t_abs\", data=res)\n",
    "plt.title(\"Runtime of 1 apply features for 1 time series of length %d\"  % n_samples)\n",
    "plt.show()"
   ]
  },
  {
   "cell_type": "code",
   "execution_count": 72,
   "metadata": {},
   "outputs": [],
   "source": [
    "train_df = train_df.reset_index(drop=True)"
   ]
  },
  {
   "cell_type": "code",
   "execution_count": 81,
   "metadata": {},
   "outputs": [
    {
     "data": {
      "text/plain": [
       "Index(['building_id', 'meter', 'timestamp', 'meter_reading', 'site_id',\n",
       "       'primary_use', 'square_feet', 'year_built', 'floor_count',\n",
       "       'air_temperature', 'cloud_coverage', 'dew_temperature',\n",
       "       'precip_depth_1_hr', 'sea_level_pressure', 'wind_direction',\n",
       "       'wind_speed', 'age', 'month_datetime', 'weekofyear_datetime',\n",
       "       'dayofyear_datetime', 'hour_datetime', 'day_week', 'day_month_datetime',\n",
       "       'week_month_datetime', 'building_id__meter__key',\n",
       "       'meter_reading_log1p'],\n",
       "      dtype='object')"
      ]
     },
     "execution_count": 81,
     "metadata": {},
     "output_type": "execute_result"
    }
   ],
   "source": [
    "train_df.columns"
   ]
  },
  {
   "cell_type": "code",
   "execution_count": 118,
   "metadata": {},
   "outputs": [
    {
     "name": "stderr",
     "output_type": "stream",
     "text": [
      "\n",
      "\n",
      "\n",
      "0it [00:00, ?it/s]"
     ]
    },
    {
     "name": "stdout",
     "output_type": "stream",
     "text": [
      "(2203, 146)\n",
      "(2203, 146)\n"
     ]
    },
    {
     "name": "stderr",
     "output_type": "stream",
     "text": [
      "\n",
      "\n",
      "\n",
      "1it [00:11, 11.75s/it]"
     ]
    },
    {
     "name": "stdout",
     "output_type": "stream",
     "text": [
      "(2203, 146)\n",
      "(2204, 292)\n"
     ]
    },
    {
     "name": "stderr",
     "output_type": "stream",
     "text": [
      "\n",
      "\n",
      "\n",
      "2it [00:23, 11.76s/it]"
     ]
    },
    {
     "name": "stdout",
     "output_type": "stream",
     "text": [
      "(2204, 146)\n",
      "(2204, 438)\n"
     ]
    },
    {
     "name": "stderr",
     "output_type": "stream",
     "text": [
      "\n",
      "\n",
      "\n",
      "3it [00:35, 11.74s/it]"
     ]
    },
    {
     "name": "stdout",
     "output_type": "stream",
     "text": [
      "(2204, 146)\n",
      "(2204, 584)\n"
     ]
    },
    {
     "name": "stderr",
     "output_type": "stream",
     "text": [
      "\n",
      "\n",
      "\n",
      "4it [00:47, 11.77s/it]"
     ]
    },
    {
     "name": "stdout",
     "output_type": "stream",
     "text": [
      "(2203, 146)\n",
      "(2204, 730)\n"
     ]
    },
    {
     "name": "stderr",
     "output_type": "stream",
     "text": [
      "\n",
      "\n",
      "\n",
      "5it [00:58, 11.77s/it]\n"
     ]
    },
    {
     "name": "stdout",
     "output_type": "stream",
     "text": [
      "(2204, 730)\n",
      "Time 58.85410237312317\n"
     ]
    }
   ],
   "source": [
    "import numpy as np\n",
    "import time\n",
    "from sklearn.model_selection import TimeSeriesSplit\n",
    "tscv = KFold(n_splits=5)\n",
    "\n",
    "start = time.time()\n",
    "\n",
    "X = train_df[:n_samples]\n",
    "\n",
    "def ts_features(train1, column_sort, column_value, settings):\n",
    "    X=extract_features(train1, \n",
    "                     column_id=KEY_NAME,\n",
    "                     column_sort=column_sort,\n",
    "                     column_value=column_value,\n",
    "                     default_fc_parameters=settings,\n",
    "                     #impute_function= impute,\n",
    "                     disable_progressbar=True,\n",
    "                     show_warnings=True)\n",
    "    return X\n",
    "\n",
    "\n",
    "X_filtered = pd.DataFrame()\n",
    "\n",
    "for i, (train_index, test_index) in tqdm(enumerate(tscv.split(X))):\n",
    "    X_train = X.loc[train_index] \n",
    "    features = ts_features(X_train, 'hour_datetime', 'meter_reading',  settings)\n",
    "    X_filtered = pd.concat((X_filtered, features.add_suffix(f'_{i}')), axis=1)\n",
    "    \n",
    "#X_filtered=X_filtered.reset_index().drop(['id'], axis=1)\n",
    "\n",
    "print(X_filtered.shape)\n",
    "\n",
    "end = time.time()\n",
    "print(\"Time\",end - start)"
   ]
  },
  {
   "cell_type": "code",
   "execution_count": null,
   "metadata": {},
   "outputs": [],
   "source": [
    "time_cols = ['month_datetime', 'weekofyear_datetime',\n",
    "             'dayofyear_datetime', 'hour_datetime', \n",
    "             'day_week', 'day_month_datetime',\n",
    "             'week_month_datetime']"
   ]
  },
  {
   "cell_type": "code",
   "execution_count": 162,
   "metadata": {},
   "outputs": [
    {
     "data": {
      "text/plain": [
       "-inf"
      ]
     },
     "execution_count": 162,
     "metadata": {},
     "output_type": "execute_result"
    }
   ],
   "source": [
    "-np.inf"
   ]
  },
  {
   "cell_type": "code",
   "execution_count": 163,
   "metadata": {},
   "outputs": [],
   "source": [
    "def ts_features(train1, column_sort, column_value, settings):\n",
    "    X=extract_features(train1, \n",
    "                     column_id=KEY_NAME,\n",
    "                     column_sort=column_sort,\n",
    "                     column_value=column_value,\n",
    "                     default_fc_parameters=settings,\n",
    "                     #impute_function= impute,\n",
    "                     disable_progressbar=True,\n",
    "                     show_warnings=True)\n",
    "    return X\n",
    "\n",
    "def generate_ts_features(X, y_col_name, time_cols, k_folds=5):\n",
    "    tscv = KFold(n_splits=k_folds)\n",
    "    \n",
    "    start = time.time()\n",
    "\n",
    "    X_filtered = pd.DataFrame()\n",
    "\n",
    "    for i, (train_index, test_index) in enumerate(tscv.split(X)):\n",
    "        X_train = X.loc[train_index]\n",
    "        for time_col in time_cols:         \n",
    "            features = ts_features(X_train, time_col, y_col_name,  settings)\n",
    "            \n",
    "            for col in features.columns:\n",
    "                features[col] = features[col].astype(np.float16)\n",
    "            \n",
    "            X_filtered = pd.concat((X_filtered, features.add_suffix(f'_{i}')), axis=1)\n",
    "    \n",
    "    X_filtered = X_filtered.replace([np.inf, -np.inf, np.nan], 0)\n",
    "    impute(X_filtered)\n",
    "    \n",
    "    end = time.time()\n",
    "    print(\"Time\",end - start)\n",
    "    \n",
    "    return X_filtered\n",
    "\n",
    "\n",
    "def generate_and_merge(X_train, X_test=None):\n",
    "    features = generate_ts_features(X, 'meter_reading', ['hour_datetime'], k_folds=6)\n",
    "    \n",
    "    X_train = X_train.merge(features, how='left', left_on=KEY_NAME, right_on='id')\n",
    "    \n",
    "    if X_test:\n",
    "        X_test = X_test.merge(features, how='left', left_on=KEY_NAME, right_on='id')\n",
    "    \n",
    "    return X_train, X_test"
   ]
  },
  {
   "cell_type": "code",
   "execution_count": 143,
   "metadata": {},
   "outputs": [
    {
     "data": {
      "application/vnd.jupyter.widget-view+json": {
       "model_id": "db8f5bea4c1a4a09b9c8b5d828fbf555",
       "version_major": 2,
       "version_minor": 0
      },
      "text/plain": [
       "HBox(children=(IntProgress(value=1, bar_style='info', max=1), HTML(value='')))"
      ]
     },
     "metadata": {},
     "output_type": "display_data"
    },
    {
     "name": "stdout",
     "output_type": "stream",
     "text": [
      "\n",
      "Time 70.06717586517334\n",
      "Time 70.06917119026184\n"
     ]
    }
   ],
   "source": [
    "import numpy as np\n",
    "import time\n",
    "from sklearn.model_selection import TimeSeriesSplit\n",
    "\n",
    "start = time.time()\n",
    "\n",
    "X = train_df[:n_samples]\n",
    "features = generate_ts_features(X, 'meter_reading', ['hour_datetime'], k_folds=6)\n",
    "\n",
    "end = time.time()\n",
    "print(\"Time\",end - start)"
   ]
  },
  {
   "cell_type": "code",
   "execution_count": 134,
   "metadata": {},
   "outputs": [],
   "source": [
    "feat_cols = ['building_id', 'meter', 'site_id',\n",
    "       'primary_use', 'square_feet', 'year_built', 'floor_count',\n",
    "       'air_temperature', 'cloud_coverage', 'dew_temperature',\n",
    "       'precip_depth_1_hr', 'sea_level_pressure', 'wind_direction',\n",
    "       'wind_speed', 'age', 'month_datetime', 'weekofyear_datetime',\n",
    "       'dayofyear_datetime', 'hour_datetime', 'day_week', 'day_month_datetime',\n",
    "       'week_month_datetime', KEY_NAME]\n",
    "\n",
    "categoricals =  ['building_id', 'meter','site_id',\n",
    "       'primary_use', 'year_built', 'age', 'month_datetime', 'weekofyear_datetime',\n",
    "       'dayofyear_datetime', 'hour_datetime', 'day_week', 'day_month_datetime',\n",
    "       'week_month_datetime', KEY_NAME]"
   ]
  },
  {
   "cell_type": "code",
   "execution_count": null,
   "metadata": {},
   "outputs": [],
   "source": [
    "full_train_df = train_df.drop('timestamp', axis=1)\n",
    "target = train_df['meter_reading']"
   ]
  },
  {
   "cell_type": "code",
   "execution_count": 164,
   "metadata": {},
   "outputs": [],
   "source": [
    "from tqdm.auto import tqdm\n",
    "\n",
    "folds = 12\n",
    "def lgbm_cross_validation(params):\n",
    "    seed = 42\n",
    "    \n",
    "    kf = KFold(n_splits=folds)\n",
    "    total_loss = []\n",
    "    \n",
    "    for train_index, val_index in kf.split(full_train_df, full_train_df['building_id']):\n",
    "        \n",
    "        train_X = full_train_df.loc[train_index, feat_cols]\n",
    "        val_X = full_train_df.loc[val_index, feat_cols]\n",
    "        train_y = target.iloc[train_index]\n",
    "        val_y = target.iloc[val_index]\n",
    "        \n",
    "\n",
    "        ###\n",
    "        \n",
    "        train_X, val_X = generate_and_merge(train_X, val_X)\n",
    "        \n",
    "        ###\n",
    "        \n",
    "        lgb_train = lgb.Dataset(train_X, train_y, categorical_feature=categoricals)\n",
    "        lgb_eval = lgb.Dataset(val_X, val_y, categorical_feature=categoricals)\n",
    "        lgbm = lgb.train(params,\n",
    "                    lgb_train,\n",
    "                    num_boost_round=500,\n",
    "                    valid_sets=(lgb_train, lgb_eval),\n",
    "                    early_stopping_rounds=100,\n",
    "                    verbose_eval = 0)\n",
    "        \n",
    "        pred_y = lgbm.predict(val_X)\n",
    "        mse = np.sqrt(mean_squared_error((val_y), (pred_y)))\n",
    "        total_loss.append(mse)\n",
    "\n",
    "    return {'loss': np.mean(total_loss), 'status': STATUS_OK, 'params': params }\n",
    "\n",
    "def optimize_lgbm(max_evals=1000):\n",
    "    space = {\n",
    "        'metric': {'rmse'},\n",
    "        'num_leaves': scope.int(hp.quniform('num_leaves', 30, 150, 1)),\n",
    "        'learning_rate': hp.loguniform('learning_rate', np.log(0.01), np.log(0.2)),\n",
    "        'min_data_in_leaf': scope.int(hp.qloguniform('min_data_in_leaf', 0, 6, 1)),\n",
    "        'lambda_l1': hp.choice('lambda_l1', [0, hp.loguniform('lambda_l1_positive', -16, 2)]),\n",
    "        'lambda_l2': hp.choice('lambda_l2', [0, hp.loguniform('lambda_l2_positive', -16, 2)]),\n",
    "        'min_child_weight': hp.loguniform('min_child_weight', -16, 5), #also aliases to min_sum_hessian\n",
    "        'reg_alpha': hp.uniform('reg_alpha', 0.0, 1.0),\n",
    "        'reg_lambda': hp.uniform('reg_lambda', 0.0, 1.0),\n",
    "        'colsample_bytree': hp.uniform('colsample_by_tree', 0.6, 1.0),\n",
    "    }\n",
    "    \n",
    "    trials = Trials()\n",
    "    best = fmin(fn=lgbm_cross_validation,\n",
    "                space=space,\n",
    "                algo=tpe.suggest,\n",
    "                max_evals=max_evals,\n",
    "                trials=trials,\n",
    "                verbose= 1)\n",
    "\n",
    "    # find the trial with lowest loss value. this is what we consider the best one\n",
    "    idx = np.argmin(trials.losses())\n",
    "    print(idx)\n",
    "\n",
    "    print(trials.trials[idx])\n",
    "    # these should be the training parameters to use to achieve the best score in best trial\n",
    "    params = trials.trials[idx][\"result\"][\"params\"]\n",
    "    \n",
    "    print(params)\n",
    "    return params"
   ]
  },
  {
   "cell_type": "code",
   "execution_count": null,
   "metadata": {},
   "outputs": [
    {
     "name": "stdout",
     "output_type": "stream",
     "text": [
      "\n",
      "\n",
      "\n",
      "\n",
      "\n",
      "\n",
      "\n",
      "  0%|                                                                                                                                                                                                                                  | 0/2 [00:00<?, ?it/s, best loss: ?]"
     ]
    }
   ],
   "source": [
    "%%notify -m \"Hyperopt execution was finished\"\n",
    "\n",
    "hp_params = optimize_lgbm(2)\n",
    "hp_params"
   ]
  },
  {
   "cell_type": "code",
   "execution_count": null,
   "metadata": {},
   "outputs": [],
   "source": [
    "train.to_pickle(root+'train.pkl')\n",
    "val.to_pickle(root+'val.pkl')"
   ]
  }
 ],
 "metadata": {
  "kernelspec": {
   "display_name": "Python 3",
   "language": "python",
   "name": "python3"
  },
  "language_info": {
   "codemirror_mode": {
    "name": "ipython",
    "version": 3
   },
   "file_extension": ".py",
   "mimetype": "text/x-python",
   "name": "python",
   "nbconvert_exporter": "python",
   "pygments_lexer": "ipython3",
   "version": "3.7.4"
  },
  "pycharm": {
   "stem_cell": {
    "cell_type": "raw",
    "metadata": {
     "collapsed": false
    },
    "source": []
   }
  }
 },
 "nbformat": 4,
 "nbformat_minor": 2
}

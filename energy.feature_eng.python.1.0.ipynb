{
 "cells": [
  {
   "cell_type": "markdown",
   "metadata": {
    "pycharm": {
     "name": "#%% # <center> Feature engineering\n"
    }
   },
   "source": [
    "# <center> Feature generation: Basic\n",
    "   "
   ]
  },
  {
   "cell_type": "code",
   "execution_count": 10,
   "metadata": {},
   "outputs": [],
   "source": [
    "%store -r __ipy\n",
    "%store -r __da\n",
    "%store -r __ml"
   ]
  },
  {
   "cell_type": "code",
   "execution_count": 11,
   "metadata": {},
   "outputs": [
    {
     "name": "stdout",
     "output_type": "stream",
     "text": [
      "Helper ipython script loaded\n"
     ]
    },
    {
     "data": {
      "text/html": [
       "\n",
       "<style>\n",
       "    body {\n",
       "          font-family: Helvetica, Times New Roman, sans-serif;\n",
       "    }\n",
       "    \n",
       "    h1,h2, h3,h4,h5,h6 {\n",
       "        font-family: Rockwell, Times New Roman, sans-serif;\n",
       "    }\n",
       "</style>\n"
      ],
      "text/plain": [
       "<IPython.core.display.HTML object>"
      ]
     },
     "metadata": {},
     "output_type": "display_data"
    }
   ],
   "source": [
    "__ipy"
   ]
  },
  {
   "cell_type": "code",
   "execution_count": 12,
   "metadata": {},
   "outputs": [
    {
     "data": {
      "text/html": [
       "        <script type=\"text/javascript\">\n",
       "        window.PlotlyConfig = {MathJaxConfig: 'local'};\n",
       "        if (window.MathJax) {MathJax.Hub.Config({SVG: {font: \"STIX-Web\"}});}\n",
       "        if (typeof require !== 'undefined') {\n",
       "        require.undef(\"plotly\");\n",
       "        requirejs.config({\n",
       "            paths: {\n",
       "                'plotly': ['https://cdn.plot.ly/plotly-latest.min']\n",
       "            }\n",
       "        });\n",
       "        require(['plotly'], function(Plotly) {\n",
       "            window._Plotly = Plotly;\n",
       "        });\n",
       "        }\n",
       "        </script>\n",
       "        "
      ]
     },
     "metadata": {},
     "output_type": "display_data"
    },
    {
     "name": "stdout",
     "output_type": "stream",
     "text": [
      "Basic Data Analysis tools was loaded\n"
     ]
    }
   ],
   "source": [
    "__da"
   ]
  },
  {
   "cell_type": "code",
   "execution_count": 13,
   "metadata": {},
   "outputs": [],
   "source": [
    "__ml"
   ]
  },
  {
   "cell_type": "code",
   "execution_count": 14,
   "metadata": {},
   "outputs": [],
   "source": [
    "train_df = pd.read_pickle(root + 'train_df.pkl')\n",
    "test_df = pd.read_pickle(root + 'test_df.pkl')\n",
    "train_df = train_df.query('not (site_id == 0 & meter == 0 & timestamp <= \"2016-05-20\") and not (meter == 2 & building_id == 1099)')"
   ]
  },
  {
   "cell_type": "code",
   "execution_count": null,
   "metadata": {},
   "outputs": [],
   "source": [
    "%%time\n",
    "\n",
    "train_df['age'] = train_df['year_built'].max() - train_df['year_built'] + 1\n",
    "test_df['age'] = test_df['year_built'].max() - test_df['year_built'] + 1\n",
    "\n",
    "le = LabelEncoder()\n",
    "train_df['primary_use'] = train_df['primary_use'].astype(str)\n",
    "train_df['primary_use'] = le.fit_transform(train_df['primary_use']).astype(np.int8)\n",
    "\n",
    "test_df['primary_use'] = test_df['primary_use'].astype(str)\n",
    "test_df['primary_use'] = le.fit_transform(test_df['primary_use']).astype(np.int8)\n",
    "\n",
    "train_df['floor_count'] = train_df['floor_count'].fillna(-999).astype(np.int16)\n",
    "test_df['floor_count'] = test_df['floor_count'].fillna(-999).astype(np.int16)\n",
    "\n",
    "train_df['year_built'] = train_df['year_built'].fillna(-999).astype(np.int16)\n",
    "test_df['year_built'] = test_df['year_built'].fillna(-999).astype(np.int16)\n",
    "\n",
    "train_df['age'] = train_df['age'].fillna(-999).astype(np.int16)\n",
    "test_df['age'] = test_df['age'].fillna(-999).astype(np.int16)\n",
    "\n",
    "train_df['cloud_coverage'] = train_df['cloud_coverage'].fillna(-999).astype(np.int16)\n",
    "test_df['cloud_coverage'] = test_df['cloud_coverage'].fillna(-999).astype(np.int16) \n",
    "\n",
    "train_df['month_datetime'] = train_df['timestamp'].dt.month.astype(np.int8)\n",
    "train_df['weekofyear_datetime'] = train_df['timestamp'].dt.weekofyear.astype(np.int8)\n",
    "train_df['dayofyear_datetime'] = train_df['timestamp'].dt.dayofyear.astype(np.int16)\n",
    "    \n",
    "train_df['hour_datetime'] = train_df['timestamp'].dt.hour.astype(np.int8)  \n",
    "train_df['day_week'] = train_df['timestamp'].dt.dayofweek.astype(np.int8)\n",
    "train_df['day_month_datetime'] = train_df['timestamp'].dt.day.astype(np.int8)\n",
    "train_df['week_month_datetime'] = train_df['timestamp'].dt.day/7\n",
    "train_df['week_month_datetime'] = train_df['week_month_datetime'].apply(lambda x: math.ceil(x)).astype(np.int8)\n",
    "    \n",
    "test_df['month_datetime'] = test_df['timestamp'].dt.month.astype(np.int8)\n",
    "test_df['weekofyear_datetime'] = test_df['timestamp'].dt.weekofyear.astype(np.int8)\n",
    "test_df['dayofyear_datetime'] = test_df['timestamp'].dt.dayofyear.astype(np.int16)\n",
    "    \n",
    "test_df['hour_datetime'] = test_df['timestamp'].dt.hour.astype(np.int8)\n",
    "test_df['day_week'] = test_df['timestamp'].dt.dayofweek.astype(np.int8)\n",
    "test_df['day_month_datetime'] = test_df['timestamp'].dt.day.astype(np.int8)\n",
    "test_df['week_month_datetime'] = test_df['timestamp'].dt.day/7\n",
    "test_df['week_month_datetime'] = test_df['week_month_datetime'].apply(lambda x: math.ceil(x)).astype(np.int8)\n",
    "\n",
    "\n",
    "train_df['weekday'] = np.uint8(df['timestamp'].dt.weekday)\n",
    "test_df['weekday'] = np.uint8(df['timestamp'].dt.weekday)\n",
    "\n"
   ]
  },
  {
   "cell_type": "code",
   "execution_count": 43,
   "metadata": {},
   "outputs": [
    {
     "data": {
      "text/plain": [
       "103    True\n",
       "104    True\n",
       "105    True\n",
       "106    True\n",
       "107    True\n",
       "dtype: bool"
      ]
     },
     "execution_count": 43,
     "metadata": {},
     "output_type": "execute_result"
    }
   ],
   "source": [
    "import holidays\n",
    "\n",
    "def set_holidays(train_df):\n",
    "    site_0_holidays = holidays.CountryHoliday('US', prov=None, state='FL')\n",
    "    site_1_holidays = holidays.CountryHoliday('UK')\n",
    "    site_2_holidays = holidays.CountryHoliday('US', prov=None, state='AZ')\n",
    "    site_3_holidays = holidays.CountryHoliday('US', prov=None, state='DC')\n",
    "    site_4_holidays = holidays.CountryHoliday('US', prov=None, state='CA')\n",
    "    site_5_holidays = holidays.CountryHoliday('UK')\n",
    "    site_6_holidays = holidays.CountryHoliday('US')\n",
    "\n",
    "    site_7_holidays = holidays.CountryHoliday('CA', prov='Ontario')\n",
    "    site_8_holidays = holidays.CountryHoliday('US', prov=None, state='FL')\n",
    "    site_9_holidays = holidays.CountryHoliday('US', prov=None, state='TX')\n",
    "\n",
    "    site_10_holidays = holidays.CountryHoliday('US', prov=None, state='MT')\n",
    "    site_11_holidays = holidays.CountryHoliday('CA', prov='Ontario')\n",
    "    site_12_holidays = holidays.CountryHoliday('IE')\n",
    "\n",
    "    site_13_holidays = holidays.CountryHoliday('US', state='MN')\n",
    "    site_14_holidays = holidays.CountryHoliday('US', state='VA')\n",
    "    site_15_holidays = holidays.CountryHoliday('US')\n",
    "\n",
    "\n",
    "    holiday_dict = dict(list(zip(list(range(16)), [site_0_holidays,\n",
    "                                site_1_holidays,\n",
    "                                site_2_holidays, \n",
    "                                site_3_holidays ,\n",
    "                                site_4_holidays ,\n",
    "                                site_5_holidays ,\n",
    "                                site_6_holidays ,\n",
    "                                site_7_holidays ,\n",
    "                                site_8_holidays ,\n",
    "                                site_9_holidays ,\n",
    "                                site_10_holidays,\n",
    "                                site_11_holidays,\n",
    "                                site_12_holidays,\n",
    "                                site_13_holidays,\n",
    "                                site_14_holidays,\n",
    "                                site_15_holidays])))\n",
    "    train_df['is_holiday'] = train_df[['timestamp', 'site_id']].apply(lambda x: x['timestamp'] in holiday_dict[x['site_id']], axis=1)\n",
    "    return train_df\n",
    "\n",
    "train_df = set_holidays(train_df)\n",
    "test_df = set_holidays(test_df)"
   ]
  },
  {
   "cell_type": "markdown",
   "metadata": {},
   "source": [
    "## Generate full key for objects"
   ]
  },
  {
   "cell_type": "code",
   "execution_count": null,
   "metadata": {},
   "outputs": [],
   "source": [
    "def to_key(train_df, test_df):\n",
    "    le_key = LabelEncoder()\n",
    "    train_df[KEY_NAME] = train_df[KEY].progress_apply(\\\n",
    "        lambda x: str(x['building_id']) + \"_\" + str(x['meter']) + \"_\" +   str(x['site_id']), axis=1)\n",
    "    \n",
    "    test_df[KEY_NAME] = test_df[KEY].progress_apply(\\\n",
    "        lambda x: str(x['building_id']) + \"_\" + str(x['meter']) + \"_\" +   str(x['site_id']), axis=1)\n",
    "    \n",
    "    le_key.fit(train_df[KEY_NAME])\n",
    "    train_df[KEY_NAME] = le_key.transform(train_df[KEY_NAME])\n",
    "    train_df[KEY_NAME] = train_df[KEY_NAME].astype(np.int32)\n",
    "    \n",
    "    test_df[KEY_NAME] = le_key.transform(test_df[KEY_NAME])\n",
    "    test_df[KEY_NAME] = test_df[KEY_NAME].astype(np.int32)\n",
    "    \n",
    "    return train_df, test_df\n",
    "\n",
    "train_df, test_df = to_key(train_df, test_df)"
   ]
  },
  {
   "cell_type": "code",
   "execution_count": null,
   "metadata": {},
   "outputs": [],
   "source": [
    "def beafort_feature(df):\n",
    "    beaufort_boundaries = [0, 0.3, 1.6, 3.4, 5.5, 8, 10.8, 13.9, 17.2, 20.8, 24.5, 28.5, 33, 10000]\n",
    "    df['wind_speed_beaufort_scale'] = pd.cut(\n",
    "        x=df['wind_speed'], \n",
    "        bins=beaufort_boundaries, \n",
    "        labels=range(len(beaufort_boundaries)-1),\n",
    "        right=False,\n",
    "    ).cat.codes\n",
    "    \n",
    "    df['wind_speed_beaufort_scale'] = np.uint8(df['wind_speed_beaufort_scale'])\n",
    "    \n",
    "    df['group'] = df['month']\n",
    "    df['group'].replace((6, 7, 8), 21, inplace=True)\n",
    "    df['group'].replace((9, 10, 11), 22, inplace=True)\n",
    "    df['group'].replace((3, 4, 5), 23, inplace=True)\n",
    "    df['group'].replace((1, 2, 12), 24, inplace=True)\n",
    "    df['group'].replace((21), 1, inplace=True)\n",
    "    df['group'].replace((22), 2, inplace=True)\n",
    "    df['group'].replace((23), 3, inplace=True)\n",
    "    df['group'].replace((24), 4, inplace=True)\n",
    "    df['group'] = np.uint8(df['group'])\n",
    "    return df\n",
    "\n",
    "train_df = beafort_feature(train_df)\n",
    "test_df = beafort_feature(test_df)"
   ]
  },
  {
   "cell_type": "code",
   "execution_count": 16,
   "metadata": {},
   "outputs": [],
   "source": [
    "test_df.to_pickle(root + \"test_features.pkl\")\n",
    "train_df.to_pickle(root + \"train_features.pkl\")"
   ]
  }
 ],
 "metadata": {
  "kernelspec": {
   "display_name": "Python 3",
   "language": "python",
   "name": "python3"
  },
  "language_info": {
   "codemirror_mode": {
    "name": "ipython",
    "version": 3
   },
   "file_extension": ".py",
   "mimetype": "text/x-python",
   "name": "python",
   "nbconvert_exporter": "python",
   "pygments_lexer": "ipython3",
   "version": "3.7.3"
  },
  "pycharm": {
   "stem_cell": {
    "cell_type": "raw",
    "metadata": {
     "collapsed": false
    },
    "source": []
   }
  }
 },
 "nbformat": 4,
 "nbformat_minor": 2
}

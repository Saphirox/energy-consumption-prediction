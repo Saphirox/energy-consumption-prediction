{
 "cells": [
  {
   "cell_type": "code",
   "execution_count": 3,
   "metadata": {},
   "outputs": [],
   "source": [
    "%store -r __ipy\n",
    "%store -r __da\n",
    "%store -r __ml"
   ]
  },
  {
   "cell_type": "code",
   "execution_count": 4,
   "metadata": {},
   "outputs": [
    {
     "name": "stdout",
     "output_type": "stream",
     "text": [
      "Helper ipython script loaded\n"
     ]
    },
    {
     "data": {
      "text/html": [
       "\n",
       "<style>\n",
       "    body {\n",
       "          font-family: Helvetica, Times New Roman, sans-serif;\n",
       "    }\n",
       "    \n",
       "    h1,h2, h3,h4,h5,h6 {\n",
       "        font-family: Rockwell, Times New Roman, sans-serif;\n",
       "    }\n",
       "</style>\n"
      ],
      "text/plain": [
       "<IPython.core.display.HTML object>"
      ]
     },
     "metadata": {},
     "output_type": "display_data"
    }
   ],
   "source": [
    "__ipy"
   ]
  },
  {
   "cell_type": "code",
   "execution_count": 5,
   "metadata": {},
   "outputs": [
    {
     "data": {
      "text/html": [
       "        <script type=\"text/javascript\">\n",
       "        window.PlotlyConfig = {MathJaxConfig: 'local'};\n",
       "        if (window.MathJax) {MathJax.Hub.Config({SVG: {font: \"STIX-Web\"}});}\n",
       "        if (typeof require !== 'undefined') {\n",
       "        require.undef(\"plotly\");\n",
       "        requirejs.config({\n",
       "            paths: {\n",
       "                'plotly': ['https://cdn.plot.ly/plotly-latest.min']\n",
       "            }\n",
       "        });\n",
       "        require(['plotly'], function(Plotly) {\n",
       "            window._Plotly = Plotly;\n",
       "        });\n",
       "        }\n",
       "        </script>\n",
       "        "
      ]
     },
     "metadata": {},
     "output_type": "display_data"
    },
    {
     "name": "stdout",
     "output_type": "stream",
     "text": [
      "Basic Data Analysis tools was loaded\n"
     ]
    }
   ],
   "source": [
    "__da"
   ]
  },
  {
   "cell_type": "code",
   "execution_count": 6,
   "metadata": {},
   "outputs": [],
   "source": [
    "__ml"
   ]
  },
  {
   "cell_type": "code",
   "execution_count": 6,
   "metadata": {},
   "outputs": [],
   "source": [
    "def ts_features(train1, column_sort, column_value, settings):\n",
    "    X=extract_features(train1, \n",
    "                     column_id=KEY_NAME,\n",
    "                     column_sort=column_sort,\n",
    "                     column_value=column_value,\n",
    "                     default_fc_parameters=settings,\n",
    "                     impute_function= impute,\n",
    "                     disable_progressbar=True,\n",
    "                     show_warnings=True)\n",
    "    return X\n",
    "\n",
    "def generate_ts_features(X_train, y_col_name, time_col, settings):\n",
    "    start = time.time()\n",
    "    features = ts_features(X_train, time_col, y_col_name, settings)\n",
    "    features = reduce_mem_usage(features)\n",
    "    X_filtered = features.replace([np.inf, -np.inf, np.nan], 0)\n",
    "    \n",
    "    end = time.time()\n",
    "    print(\"Time\",end - start)\n",
    "    \n",
    "    ####\n",
    "    ###\n",
    "    \n",
    "    return X_filtered\n",
    "\n",
    "\n",
    "def generate_and_merge(X_train, X_test, settings):\n",
    "    features = generate_ts_features(X_train, 'meter_reading_log1p', 'hour_datetime', settings)\n",
    "    \n",
    "    X_train = X_train.merge(features, how='left', left_on=KEY_NAME, right_on='id')\n",
    "    X_test = X_test.merge(features, how='left', left_on=KEY_NAME, right_on='id')\n",
    "    \n",
    "    return X_train, X_test\n",
    "\n",
    "folds = 6\n",
    "@telegram_sender(token=TELEGRAM_API_KEY, chat_id=CHAT_ID)\n",
    "def lgbm_cross_validation(params):\n",
    "    seed = 42\n",
    "    \n",
    "    kf = KFold(n_splits=folds)\n",
    "    total_loss = []\n",
    "    \n",
    "    for train_index, val_index in kf.split(full_train_df):\n",
    "        \n",
    "        train_X = full_train_df.loc[train_index, [*feat_cols, 'meter_reading_log1p']].reset_index(drop=True)\n",
    "        val_X = full_train_df.loc[val_index, feat_cols].reset_index(drop=True)\n",
    "        train_y = target.iloc[train_index]\n",
    "        val_y = target.iloc[val_index]\n",
    "        \n",
    "        ###\n",
    "        \n",
    "        train_X, val_X = generate_and_merge(train_X, val_X, settings)\n",
    "        \n",
    "        ###\n",
    "        train_X.drop('meter_reading_log1p', axis=1, inplace=True)\n",
    "        ####\n",
    "        \n",
    "        ####\n",
    "        \n",
    "        lgb_train = lgb.Dataset(train_X, train_y, categorical_feature=categoricals)\n",
    "        lgb_eval = lgb.Dataset(val_X, val_y, categorical_feature=categoricals)\n",
    "        lgbm = lgb.train(params,\n",
    "                    lgb_train,\n",
    "                    num_boost_round=500,\n",
    "                    valid_sets=(lgb_train, lgb_eval),\n",
    "                    early_stopping_rounds=100,\n",
    "                    verbose_eval = 0)\n",
    "        \n",
    "        pred_y = lgbm.predict(val_X)\n",
    "        mse = np.sqrt(mean_squared_error((val_y), (pred_y)))\n",
    "        total_loss.append(mse)\n",
    "\n",
    "    return {'loss': np.mean(total_loss), 'status': STATUS_OK, 'params': params }\n",
    "\n",
    "def optimize_lgbm(max_evals=1000):\n",
    "    space = {\n",
    "        'metric': {'rmse'},\n",
    "        'num_leaves': scope.int(hp.quniform('num_leaves', 30, 150, 1)),\n",
    "        'learning_rate': hp.loguniform('learning_rate', np.log(0.01), np.log(0.2)),\n",
    "        'min_data_in_leaf': scope.int(hp.qloguniform('min_data_in_leaf', 0, 6, 1)),\n",
    "        'lambda_l1': hp.choice('lambda_l1', [0, hp.loguniform('lambda_l1_positive', -16, 2)]),\n",
    "        'lambda_l2': hp.choice('lambda_l2', [0, hp.loguniform('lambda_l2_positive', -16, 2)]),\n",
    "        'min_child_weight': hp.loguniform('min_child_weight', -16, 5), #also aliases to min_sum_hessian\n",
    "        'reg_alpha': hp.uniform('reg_alpha', 0.0, 1.0),\n",
    "        'reg_lambda': hp.uniform('reg_lambda', 0.0, 1.0),\n",
    "        'colsample_bytree': hp.uniform('colsample_by_tree', 0.6, 1.0),\n",
    "    }\n",
    "    \n",
    "    trials = Trials()\n",
    "    best = fmin(fn=lgbm_cross_validation,\n",
    "                space=space,\n",
    "                algo=tpe.suggest,\n",
    "                max_evals=max_evals,\n",
    "                trials=trials,\n",
    "                verbose= 1)\n",
    "\n",
    "    # find the trial with lowest loss value. this is what we consider the best one\n",
    "    idx = np.argmin(trials.losses())\n",
    "    print(idx)\n",
    "\n",
    "    print(trials.trials[idx])\n",
    "    # these should be the training parameters to use to achieve the best score in best trial\n",
    "    params = trials.trials[idx][\"result\"][\"params\"]\n",
    "    \n",
    "    print(params)\n",
    "    return params"
   ]
  },
  {
   "cell_type": "code",
   "execution_count": 15,
   "metadata": {},
   "outputs": [],
   "source": [
    "import  time"
   ]
  },
  {
   "cell_type": "code",
   "execution_count": 13,
   "metadata": {},
   "outputs": [],
   "source": []
  },
  {
   "cell_type": "code",
   "execution_count": null,
   "metadata": {},
   "outputs": [],
   "source": [
    "import json\n",
    "with open(models + 'year_settings.json', 'r') as json_file:\n",
    "    settings = json.loads(json_file.read())\n",
    "\n",
    "def generate_and_merge(X_train, X_test, settings):\n",
    "    features = generate_ts_features(X_train, 'meter_reading_log1p', 'dayofyear_datetime', settings)\n",
    "    X_train = X_train.merge(features, how='left', left_on=KEY_NAME, right_on='id')\n",
    "    \n",
    "    if np.any(X_test):    \n",
    "        X_test = X_test.merge(features, how='left', left_on=KEY_NAME, right_on='id')\n",
    "    \n",
    "    return X_train, X_test, features\n",
    "\n",
    "\n",
    "def read_features(test=True):\n",
    "    #test_df.to_pickle(root + \"test_features.pkl\")\n",
    "    train_df = pd.read_pickle(root + \"train_features.pkl\")\n",
    "    full_train_df = train_df.drop('timestamp', axis=1)\n",
    "    full_train_df = full_train_df.reset_index(drop=True)\n",
    "    train_X = full_train_df[[*feat_cols, 'meter_reading_log1p']].reset_index(drop=True)\n",
    "    train_y = full_train_df['meter_reading_log1p']\n",
    "    \n",
    "    if test:\n",
    "        test_df = pd.read_pickle(root + \"test_features.pkl\")\n",
    "        test_X.drop('timestamp', axis=1, inplace=True)\n",
    "        test_X = test_df\n",
    "\n",
    "    ## Feature generation\n",
    "    train_X, test_X, tsfresh_features = generate_and_merge(train_X, None, settings)\n",
    "    ##\n",
    "    \n",
    "    train_X.drop('meter_reading_log1p', axis=1, inplace=True)\n",
    "    return train_X, test_X, tsfresh_features"
   ]
  },
  {
   "cell_type": "code",
   "execution_count": 16,
   "metadata": {},
   "outputs": [
    {
     "name": "stdout",
     "output_type": "stream",
     "text": [
      "Mem. usage decreased to  0.26 Mb (73.1% reduction)\n",
      "Time 299.9200780391693\n"
     ]
    }
   ],
   "source": [
    "train_X, test_X, tsfresh_features = read_features(test=True)"
   ]
  },
  {
   "cell_type": "code",
   "execution_count": 7,
   "metadata": {},
   "outputs": [],
   "source": [
    "evals_result = {} \n",
    "\n",
    "@telegram_sender(token=TELEGRAM_API_KEY, chat_id=CHAT_ID)\n",
    "def model_train(params):\n",
    "    seed = 42\n",
    "    lgb_train = lgb.Dataset(train_X, train_y, categorical_feature=categoricals)\n",
    "\n",
    "    lgbm = lgb.train(params,\n",
    "                lgb_train,\n",
    "                num_boost_round=300,\n",
    "                valid_sets=(lgb_train),\n",
    "                early_stopping_rounds=100,\n",
    "                evals_result = evals_result,\n",
    "                verbose_eval = 10)\n",
    "    \n",
    "    joblib.dump(lgbm, models + 'lgbm.joblib')\n",
    "    return lgbm\n",
    "\n",
    "\n",
    "def load_model():\n",
    "    lgbm = joblib.load(models + 'lgbm.joblib')\n",
    "    return lgbm"
   ]
  },
  {
   "cell_type": "code",
   "execution_count": 29,
   "metadata": {
    "scrolled": false
   },
   "outputs": [
    {
     "data": {
      "application/vnd.jupyter.widget-view+json": {
       "model_id": "cbf16759d17a49ca93bcc04a9b6e7a68",
       "version_major": 2,
       "version_minor": 0
      },
      "text/plain": [
       "HBox(children=(IntProgress(value=1, bar_style='info', max=1), HTML(value='')))"
      ]
     },
     "metadata": {},
     "output_type": "display_data"
    },
    {
     "name": "stdout",
     "output_type": "stream",
     "text": [
      "\n"
     ]
    },
    {
     "name": "stderr",
     "output_type": "stream",
     "text": [
      "Traceback (most recent call last):\n",
      "  File \"c:\\users\\maksym_suprunenko\\appdata\\local\\continuum\\miniconda3\\lib\\runpy.py\", line 193, in _run_module_as_main\n",
      "    \"__main__\", mod_spec)\n",
      "  File \"c:\\users\\maksym_suprunenko\\appdata\\local\\continuum\\miniconda3\\lib\\runpy.py\", line 85, in _run_code\n",
      "    exec(code, run_globals)\n",
      "  File \"C:\\Users\\Maksym_Suprunenko\\AppData\\Local\\Continuum\\miniconda3\\Scripts\\kaggle.exe\\__main__.py\", line 4, in <module>\n",
      "  File \"c:\\users\\maksym_suprunenko\\appdata\\local\\continuum\\miniconda3\\lib\\site-packages\\kaggle\\__init__.py\", line 23, in <module>\n",
      "    api.authenticate()\n",
      "  File \"c:\\users\\maksym_suprunenko\\appdata\\local\\continuum\\miniconda3\\lib\\site-packages\\kaggle\\api\\kaggle_api_extended.py\", line 149, in authenticate\n",
      "    self.config_file, self.config_dir))\n",
      "OSError: Could not find kaggle.json. Make sure it's located in C:\\Users\\Maksym_Suprunenko\\.kaggle. Or use the environment method.\n"
     ]
    }
   ],
   "source": [
    "def batch_prediction(model, samples, n = 100):\n",
    "    kfold = KFold(n)\n",
    "    agg = []\n",
    "    \n",
    "    for train_index, test_index in tqdm(kfold.split(samples)):\n",
    "        preds = model.predict(samples.loc[test_index, :])\n",
    "        agg += preds.tolist()\n",
    "        \n",
    "    return agg\n",
    "\n",
    "def create_submission(model, test_data, submission_name, send_submission=False, message=\"Enter model name\"):\n",
    "    preds = batch_prediction(model, test_data)\n",
    "    \n",
    "    submission_df = pd.DataFrame() \n",
    "    submission_df['row_id'] = np.arange(len(preds))\n",
    "    submission_df['meter_reading'] = np.exp(preds)\n",
    "    submission_df.to_csv(submission + submission_name, index=False)\n",
    "   \n",
    "    if send_submission:\n",
    "        !kaggle competitions submit -c ashrae-energy-prediction -f {submission_name} -m {message}\n",
    "        \n",
    "\n",
    "create_submission(lgbm, test_X, 'lgbm_first', True, 'lgbm')"
   ]
  },
  {
   "cell_type": "code",
   "execution_count": 28,
   "metadata": {},
   "outputs": [
    {
     "name": "stdout",
     "output_type": "stream",
     "text": [
      "Training until validation scores don't improve for 100 rounds\n",
      "[10]\ttraining's rmse: 1.76698\n",
      "[20]\ttraining's rmse: 1.53317\n",
      "[30]\ttraining's rmse: 1.37205\n",
      "[40]\ttraining's rmse: 1.26127\n",
      "[50]\ttraining's rmse: 1.18141\n",
      "[60]\ttraining's rmse: 1.1226\n",
      "[70]\ttraining's rmse: 1.07919\n",
      "[80]\ttraining's rmse: 1.0475\n",
      "[90]\ttraining's rmse: 1.01907\n",
      "[100]\ttraining's rmse: 0.987871\n",
      "[110]\ttraining's rmse: 0.962417\n",
      "[120]\ttraining's rmse: 0.942382\n",
      "[130]\ttraining's rmse: 0.925203\n",
      "[140]\ttraining's rmse: 0.907178\n",
      "[150]\ttraining's rmse: 0.889852\n",
      "[160]\ttraining's rmse: 0.872631\n",
      "[170]\ttraining's rmse: 0.857679\n",
      "[180]\ttraining's rmse: 0.844562\n",
      "[190]\ttraining's rmse: 0.830591\n",
      "[200]\ttraining's rmse: 0.818647\n",
      "[210]\ttraining's rmse: 0.807295\n",
      "[220]\ttraining's rmse: 0.797371\n",
      "[230]\ttraining's rmse: 0.787665\n",
      "[240]\ttraining's rmse: 0.780123\n",
      "[250]\ttraining's rmse: 0.772404\n",
      "[260]\ttraining's rmse: 0.766\n",
      "[270]\ttraining's rmse: 0.759562\n",
      "[280]\ttraining's rmse: 0.754937\n",
      "[290]\ttraining's rmse: 0.750245\n",
      "[300]\ttraining's rmse: 0.744361\n",
      "Did not meet early stopping. Best iteration is:\n",
      "[300]\ttraining's rmse: 0.744361\n"
     ]
    }
   ],
   "source": [
    "lgbm = model_train({'colsample_bytree': 0.6822560141727592,\n",
    " 'lambda_l1': 0,\n",
    " 'lambda_l2': 0.0002740951720687087,\n",
    " 'learning_rate': 0.026270661708149894,\n",
    " 'metric': {'rmse'},\n",
    " 'min_child_weight': 0.7119717355682591,\n",
    " 'min_data_in_leaf': 381,\n",
    " 'num_leaves': 98,\n",
    " 'reg_alpha': 0.4682446847511589,\n",
    " 'reg_lambda': 0.6062162687310869})"
   ]
  },
  {
   "cell_type": "code",
   "execution_count": 29,
   "metadata": {},
   "outputs": [
    {
     "data": {
      "image/png": "[encoded data removed]",
      "text/plain": [
       "<Figure size 864x720 with 1 Axes>"
      ]
     },
     "metadata": {
      "needs_background": "light"
     },
     "output_type": "display_data"
    }
   ],
   "source": [
    "fig, ax = plt.subplots(figsize=(12,10))\n",
    "ax = lgb.plot_importance(lgbm, max_num_features=20, ax=ax)\n",
    "plt.show()"
   ]
  },
  {
   "cell_type": "code",
   "execution_count": 49,
   "metadata": {},
   "outputs": [
    {
     "data": {
      "text/plain": [
       "[('building_id__meter__key', 6945),\n",
       " ('building_id', 5047),\n",
       " ('dayofyear_datetime', 3375),\n",
       " ('weekofyear_datetime', 2932),\n",
       " ('air_temperature', 1354),\n",
       " ('hour_datetime', 1163),\n",
       " ('month_datetime', 1097),\n",
       " ('meter_reading_log1p__mean', 924),\n",
       " ('meter', 775),\n",
       " ('dew_temperature', 555),\n",
       " ('site_id', 433),\n",
       " ('meter_reading_log1p__linear_trend__attr_\"slope\"', 416),\n",
       " ('day_week', 237),\n",
       " ('meter_reading_log1p__absolute_sum_of_changes', 237),\n",
       " ('meter_reading_log1p__linear_trend__attr_\"stderr\"', 225),\n",
       " ('meter_reading_log1p__linear_trend__attr_\"rvalue\"', 208),\n",
       " ('meter_reading_log1p__standard_deviation', 165),\n",
       " ('meter_reading_log1p__linear_trend__attr_\"intercept\"', 161),\n",
       " ('meter_reading_log1p__agg_autocorrelation__f_agg_\"mean\"__maxlag_40', 158),\n",
       " ('square_feet', 154),\n",
       " ('sea_level_pressure', 147),\n",
       " ('meter_reading_log1p__c3__lag_1', 143),\n",
       " ('meter_reading_log1p__c3__lag_2', 119),\n",
       " ('meter_reading_log1p__mean_change', 105),\n",
       " ('meter_reading_log1p__count_above_mean', 99),\n",
       " ('meter_reading_log1p__c3__lag_3', 97),\n",
       " ('meter_reading_log1p__agg_autocorrelation__f_agg_\"var\"__maxlag_40', 96),\n",
       " ('meter_reading_log1p__quantile__q_0.2', 84),\n",
       " ('meter_reading_log1p__variance', 84),\n",
       " ('day_month_datetime', 82),\n",
       " ('meter_reading_log1p__partial_autocorrelation__lag_4', 74),\n",
       " ('meter_reading_log1p__quantile__q_0.4', 69),\n",
       " ('meter_reading_log1p__augmented_dickey_fuller__attr_\"pvalue\"', 68),\n",
       " ('meter_reading_log1p__mean_abs_change', 68),\n",
       " ('meter_reading_log1p__median', 68),\n",
       " ('meter_reading_log1p__quantile__q_0.3', 67),\n",
       " ('meter_reading_log1p__agg_autocorrelation__f_agg_\"median\"__maxlag_40', 65),\n",
       " ('meter_reading_log1p__quantile__q_0.6', 63),\n",
       " ('meter_reading_log1p__augmented_dickey_fuller__attr_\"teststat\"', 56),\n",
       " ('meter_reading_log1p__count_below_mean', 54),\n",
       " ('age', 51),\n",
       " ('meter_reading_log1p__autocorrelation__lag_1', 51),\n",
       " ('meter_reading_log1p__partial_autocorrelation__lag_2', 51),\n",
       " ('meter_reading_log1p__quantile__q_0.8', 50),\n",
       " ('meter_reading_log1p__autocorrelation__lag_12', 46),\n",
       " ('meter_reading_log1p__maximum', 45),\n",
       " ('meter_reading_log1p__quantile__q_0.1', 44),\n",
       " ('meter_reading_log1p__partial_autocorrelation__lag_3', 38),\n",
       " ('primary_use', 37),\n",
       " ('meter_reading_log1p__quantile__q_0.7', 37),\n",
       " ('year_built', 35),\n",
       " ('meter_reading_log1p__augmented_dickey_fuller__attr_\"usedlag\"', 33),\n",
       " ('wind_direction', 29),\n",
       " ('meter_reading_log1p__quantile__q_0.9', 29),\n",
       " ('meter_reading_log1p__autocorrelation__lag_2', 26),\n",
       " ('floor_count', 25),\n",
       " ('meter_reading_log1p__partial_autocorrelation__lag_6', 25),\n",
       " ('meter_reading_log1p__number_peaks__n_1', 23),\n",
       " ('meter_reading_log1p__number_peaks__n_10', 21),\n",
       " ('wind_speed', 16),\n",
       " ('meter_reading_log1p__autocorrelation__lag_3', 16),\n",
       " ('meter_reading_log1p__number_peaks__n_3', 15),\n",
       " ('cloud_coverage', 14),\n",
       " ('meter_reading_log1p__autocorrelation__lag_6', 13),\n",
       " ('meter_reading_log1p__number_peaks__n_50', 13),\n",
       " ('meter_reading_log1p__autocorrelation__lag_4', 12),\n",
       " ('meter_reading_log1p__partial_autocorrelation__lag_12', 11),\n",
       " ('week_month_datetime', 8),\n",
       " ('precip_depth_1_hr', 7),\n",
       " ('meter_reading_log1p__number_peaks__n_5', 5),\n",
       " ('meter_reading_log1p__linear_trend__attr_\"pvalue\"', 4),\n",
       " ('meter_reading_log1p__partial_autocorrelation__lag_1', 1),\n",
       " ('meter_reading_log1p__autocorrelation__lag_0', 0),\n",
       " ('meter_reading_log1p__minimum', 0),\n",
       " ('meter_reading_log1p__partial_autocorrelation__lag_0', 0),\n",
       " ('meter_reading_log1p__variance_larger_than_standard_deviation', 0)]"
      ]
     },
     "execution_count": 49,
     "metadata": {},
     "output_type": "execute_result"
    }
   ],
   "source": [
    "import operator\n",
    "\n",
    "l = list(zip(train_X.columns, lgbm.feature_importance()))\n",
    "l.sort(key=operator.itemgetter(1), reverse=True)\n",
    "l"
   ]
  },
  {
   "cell_type": "code",
   "execution_count": 30,
   "metadata": {},
   "outputs": [
    {
     "name": "stdout",
     "output_type": "stream",
     "text": [
      "Plotting metrics recorded during training...\n"
     ]
    },
    {
     "data": {
      "image/png": "[encoded data removed]",
      "text/plain": [
       "<Figure size 432x288 with 1 Axes>"
      ]
     },
     "metadata": {
      "needs_background": "light"
     },
     "output_type": "display_data"
    }
   ],
   "source": [
    "print('Plotting metrics recorded during training...')\n",
    "ax = lgb.plot_metric(evals_result)\n",
    "plt.show()"
   ]
  },
  {
   "cell_type": "code",
   "execution_count": 17,
   "metadata": {},
   "outputs": [],
   "source": []
  }
 ],
 "metadata": {
  "kernelspec": {
   "display_name": "Python 3",
   "language": "python",
   "name": "python3"
  },
  "language_info": {
   "codemirror_mode": {
    "name": "ipython",
    "version": 3
   },
   "file_extension": ".py",
   "mimetype": "text/x-python",
   "name": "python",
   "nbconvert_exporter": "python",
   "pygments_lexer": "ipython3",
   "version": "3.7.4"
  }
 },
 "nbformat": 4,
 "nbformat_minor": 2
}
